{
 "cells": [
  {
   "cell_type": "markdown",
   "id": "d38e6c19-5771-4a5b-abda-ea3f66ba6572",
   "metadata": {},
   "source": [
    "### Dictionary:\n",
    "##### Used to store information what are called key-value pairs."
   ]
  },
  {
   "cell_type": "code",
   "execution_count": 99,
   "id": "0c7119eb-695b-4814-bf97-a19beb200385",
   "metadata": {},
   "outputs": [],
   "source": [
    "score = {\n",
    "    16 : \"good\",\n",
    "    18 : \"very_good\",\n",
    "    20 : \"great\",\n",
    "}"
   ]
  },
  {
   "cell_type": "code",
   "execution_count": 109,
   "id": "48311045-1a12-4ee9-b529-f30cf39b601b",
   "metadata": {},
   "outputs": [],
   "source": [
    "student = {\n",
    "    \"name\": \"Alice\",\n",
    "    \"age\": 21,\n",
    "    \"major\": \"Computer science\",\n",
    "}"
   ]
  },
  {
   "cell_type": "code",
   "execution_count": 110,
   "id": "cc748de4-1259-413d-9f7d-0a081238691a",
   "metadata": {},
   "outputs": [
    {
     "name": "stdout",
     "output_type": "stream",
     "text": [
      "Alice\n"
     ]
    }
   ],
   "source": [
    "print(student[\"name\"])"
   ]
  },
  {
   "cell_type": "code",
   "execution_count": 111,
   "id": "a12b61aa-ecb3-471b-9790-d4a072ea0522",
   "metadata": {},
   "outputs": [
    {
     "name": "stdout",
     "output_type": "stream",
     "text": [
      "Computer science\n"
     ]
    }
   ],
   "source": [
    "print(student[\"major\"])"
   ]
  },
  {
   "cell_type": "code",
   "execution_count": 112,
   "id": "54986a58-378a-4ee6-bf8e-ee0c8bbdc889",
   "metadata": {},
   "outputs": [],
   "source": [
    "student[\"age\"] = 22"
   ]
  },
  {
   "cell_type": "code",
   "execution_count": 113,
   "id": "031f4262-2062-4894-8dce-25bde0088888",
   "metadata": {},
   "outputs": [
    {
     "name": "stdout",
     "output_type": "stream",
     "text": [
      "{'name': 'Alice', 'age': 22, 'major': 'Computer science'}\n"
     ]
    }
   ],
   "source": [
    "print(student)"
   ]
  },
  {
   "cell_type": "code",
   "execution_count": 114,
   "id": "cac01ac3-303e-4f40-8cba-d90ea5abfa7e",
   "metadata": {},
   "outputs": [],
   "source": [
    "student[\"GPA\"] = 3.8"
   ]
  },
  {
   "cell_type": "code",
   "execution_count": 115,
   "id": "f2bb3e40-a5c9-47e1-a08c-adddd3d437bf",
   "metadata": {},
   "outputs": [
    {
     "name": "stdout",
     "output_type": "stream",
     "text": [
      "{'name': 'Alice', 'age': 22, 'major': 'Computer science', 'GPA': 3.8}\n"
     ]
    }
   ],
   "source": [
    "print(student)"
   ]
  },
  {
   "cell_type": "code",
   "execution_count": 116,
   "id": "53db6885-442f-4581-ba24-2130b03c50b9",
   "metadata": {},
   "outputs": [],
   "source": [
    "del student[\"GPA\"]"
   ]
  },
  {
   "cell_type": "code",
   "execution_count": 117,
   "id": "fc9dfbd5-dac1-4982-8259-abf5470d2f7d",
   "metadata": {},
   "outputs": [
    {
     "name": "stdout",
     "output_type": "stream",
     "text": [
      "{'name': 'Alice', 'age': 22, 'major': 'Computer science'}\n"
     ]
    }
   ],
   "source": [
    "print(student)"
   ]
  },
  {
   "cell_type": "code",
   "execution_count": 118,
   "id": "ffead9ea-bc33-4763-9ae1-2df5c0d5f3b3",
   "metadata": {},
   "outputs": [],
   "source": [
    "student[\"GPA\"] = 3.8"
   ]
  },
  {
   "cell_type": "code",
   "execution_count": 119,
   "id": "44cec4f6-c01e-4e66-8784-ee3f838b7bb2",
   "metadata": {},
   "outputs": [
    {
     "name": "stdout",
     "output_type": "stream",
     "text": [
      "Name: Alice\n"
     ]
    }
   ],
   "source": [
    "print(\"Name:\", student[\"name\"])"
   ]
  },
  {
   "cell_type": "code",
   "execution_count": 120,
   "id": "71303900-7b64-47fb-a7cf-11a7c3e02e86",
   "metadata": {},
   "outputs": [
    {
     "name": "stdout",
     "output_type": "stream",
     "text": [
      "{'name': 'Alice', 'age': 22, 'major': 'Computer science', 'GPA': 3.8}\n"
     ]
    }
   ],
   "source": [
    "print(student)"
   ]
  },
  {
   "cell_type": "code",
   "execution_count": 89,
   "id": "3a177264-0bd8-4247-ac3f-6eaf56f50774",
   "metadata": {},
   "outputs": [
    {
     "data": {
      "text/plain": [
       "dict_values(['Alice', 22, 'Computer Science', 3.8])"
      ]
     },
     "execution_count": 89,
     "metadata": {},
     "output_type": "execute_result"
    }
   ],
   "source": [
    "student.values()"
   ]
  },
  {
   "cell_type": "code",
   "execution_count": 90,
   "id": "67f16741-c2db-4abf-bf8e-2295ac0b9904",
   "metadata": {},
   "outputs": [
    {
     "name": "stdout",
     "output_type": "stream",
     "text": [
      "dict_values(['Alice', 22, 'Computer Science', 3.8])\n"
     ]
    }
   ],
   "source": [
    "print(student.values())"
   ]
  },
  {
   "cell_type": "code",
   "execution_count": 91,
   "id": "36c48602-e18e-41e4-a2a9-c1807cf668b9",
   "metadata": {},
   "outputs": [
    {
     "name": "stdout",
     "output_type": "stream",
     "text": [
      "Alice\n"
     ]
    }
   ],
   "source": [
    "print(student.get(\"name\"))"
   ]
  },
  {
   "cell_type": "code",
   "execution_count": 92,
   "id": "cd25d7e5-a915-49d5-a6c6-c8be890b961c",
   "metadata": {},
   "outputs": [
    {
     "name": "stdout",
     "output_type": "stream",
     "text": [
      "N/A\n"
     ]
    }
   ],
   "source": [
    "print(student.get(\"gender\", \"N/A\"))"
   ]
  },
  {
   "cell_type": "code",
   "execution_count": 93,
   "id": "dfba05f8-23ac-4cbd-8d03-7b305542f1d0",
   "metadata": {},
   "outputs": [
    {
     "name": "stdout",
     "output_type": "stream",
     "text": [
      "dict_keys(['name', 'age', 'major', 'GPA'])\n"
     ]
    }
   ],
   "source": [
    "print(student.keys())"
   ]
  },
  {
   "cell_type": "code",
   "execution_count": 94,
   "id": "88ec8193-c184-4ca7-9486-ddbd5052654c",
   "metadata": {},
   "outputs": [],
   "source": [
    "student.update({\"name\": \"Smith\", \"city\": \"New York\"})"
   ]
  },
  {
   "cell_type": "code",
   "execution_count": 95,
   "id": "0c595230-0239-46f4-afdc-724a80a3113a",
   "metadata": {},
   "outputs": [
    {
     "name": "stdout",
     "output_type": "stream",
     "text": [
      "{'name': 'Smith', 'age': 22, 'major': 'Computer Science', 'GPA': 3.8, 'city': 'New York'}\n"
     ]
    }
   ],
   "source": [
    "print(student)"
   ]
  },
  {
   "cell_type": "code",
   "execution_count": 96,
   "id": "641029d0-17da-49ac-b3bf-5eec522354ac",
   "metadata": {},
   "outputs": [
    {
     "name": "stdout",
     "output_type": "stream",
     "text": [
      "3.8\n"
     ]
    }
   ],
   "source": [
    "age = student.pop(\"GPA\")\n",
    "print(age)"
   ]
  },
  {
   "cell_type": "markdown",
   "id": "fe64b9f5-ecf4-4b51-815e-6dd935a09273",
   "metadata": {},
   "source": [
    "##### dict.pop(key) remove the key and return its value."
   ]
  },
  {
   "cell_type": "code",
   "execution_count": null,
   "id": "a30c61f1-909d-48a6-a621-5b0eacbdb4ce",
   "metadata": {},
   "outputs": [],
   "source": []
  },
  {
   "cell_type": "code",
   "execution_count": 97,
   "id": "d49f4519-51d1-4813-a7ab-86b42d8c3fc3",
   "metadata": {},
   "outputs": [
    {
     "name": "stdout",
     "output_type": "stream",
     "text": [
      "key exist\n"
     ]
    }
   ],
   "source": [
    "if \"city\" in student:\n",
    "    print(\"key exist\")\n",
    "else:\n",
    "    print(\"key does't exist\")"
   ]
  },
  {
   "cell_type": "code",
   "execution_count": 100,
   "id": "4cd008de-83d5-45c3-b4af-db22bbb594e4",
   "metadata": {},
   "outputs": [],
   "source": [
    "student.update(score)"
   ]
  },
  {
   "cell_type": "code",
   "execution_count": 101,
   "id": "bff97cdf-ed88-4598-8675-d355f5cb950f",
   "metadata": {},
   "outputs": [
    {
     "name": "stdout",
     "output_type": "stream",
     "text": [
      "{'name': 'Smith', 'age': 22, 'major': 'Computer Science', 'city': 'New York', 16: 'good', 18: 'very_good', 20: 'great'}\n"
     ]
    }
   ],
   "source": [
    "print(student)"
   ]
  },
  {
   "cell_type": "code",
   "execution_count": 103,
   "id": "bf69c5ee-c658-46ba-a774-464d319b95e8",
   "metadata": {},
   "outputs": [
    {
     "name": "stdout",
     "output_type": "stream",
     "text": [
      "{16: 'good', 18: 'very_good', 20: 'great'}\n"
     ]
    }
   ],
   "source": [
    "print(score)"
   ]
  },
  {
   "cell_type": "code",
   "execution_count": 107,
   "id": "31d5fa81-25ce-49cf-b88f-f68e82c2374d",
   "metadata": {},
   "outputs": [
    {
     "name": "stdout",
     "output_type": "stream",
     "text": [
      "{}\n"
     ]
    }
   ],
   "source": [
    "print(score)"
   ]
  },
  {
   "cell_type": "code",
   "execution_count": 108,
   "id": "26045839-6eb2-4cf5-b947-64168621a536",
   "metadata": {},
   "outputs": [
    {
     "name": "stdout",
     "output_type": "stream",
     "text": [
      "{'name': 'Smith', 'age': 22, 'major': 'Computer Science', 'city': 'New York', 16: 'good', 18: 'very_good', 20: 'great'}\n"
     ]
    }
   ],
   "source": [
    "print(student)"
   ]
  },
  {
   "cell_type": "code",
   "execution_count": null,
   "id": "21e3fb65-393b-4b98-bb7f-946c1d71ff45",
   "metadata": {},
   "outputs": [],
   "source": []
  },
  {
   "cell_type": "code",
   "execution_count": null,
   "id": "fd5a973c-5030-4e09-ba0e-e3830b25e9bf",
   "metadata": {},
   "outputs": [],
   "source": []
  },
  {
   "cell_type": "markdown",
   "id": "da1c81f0-cfb9-4428-9036-93c2b98690d7",
   "metadata": {},
   "source": [
    "### while loop:\n",
    "#### Guessing Game:"
   ]
  },
  {
   "cell_type": "code",
   "execution_count": 10,
   "id": "35fb6001-f64b-4915-b545-c9a973669f5d",
   "metadata": {},
   "outputs": [
    {
     "name": "stdin",
     "output_type": "stream",
     "text": [
      "Enter guess:  Vahid\n"
     ]
    },
    {
     "name": "stdout",
     "output_type": "stream",
     "text": [
      "You win!\n"
     ]
    }
   ],
   "source": [
    "secret_word = \"Vahid\"\n",
    "guess = \"\"\n",
    "while guess != secret_word:\n",
    "    guess = input(\"Enter guess: \")\n",
    "\n",
    "print(\"You win!\")"
   ]
  },
  {
   "cell_type": "markdown",
   "id": "09baf974-8c1c-47dc-86e0-28a8f4f598a6",
   "metadata": {},
   "source": [
    "### Note:\n",
    "##### It won't stop until the user win."
   ]
  },
  {
   "cell_type": "markdown",
   "id": "1282e7e6-cded-40de-9b26-349beeed0e15",
   "metadata": {},
   "source": [
    "### Let's modify the program to run with a limited number of iterations:"
   ]
  },
  {
   "cell_type": "code",
   "execution_count": 11,
   "id": "4f90e4eb-cdce-409a-a91f-4a412dade80a",
   "metadata": {},
   "outputs": [
    {
     "name": "stdin",
     "output_type": "stream",
     "text": [
      "Enter guess:  Python\n"
     ]
    },
    {
     "name": "stdout",
     "output_type": "stream",
     "text": [
      "YOU WIN!\n"
     ]
    }
   ],
   "source": [
    "secret_name = \"Python\"\n",
    "guess = \"\"\n",
    "guess_limit = 3\n",
    "guess_count = 0\n",
    "out_of_guesses = False\n",
    "while guess != secret_name and not(out_of_guesses):\n",
    "    if guess_count < guess_limit:\n",
    "        guess_count += 1\n",
    "        guess = input(\"Enter guess: \")\n",
    "    else:\n",
    "        out_of_guesses = True\n",
    "\n",
    "if out_of_guesses:\n",
    "    print(\"Out of Guesses, YOU LOSE!\")\n",
    "else:\n",
    "    print(\"YOU WIN!\")"
   ]
  },
  {
   "cell_type": "code",
   "execution_count": null,
   "id": "d6c91305-0eb9-4359-869d-8c567be87e6b",
   "metadata": {},
   "outputs": [],
   "source": []
  },
  {
   "cell_type": "markdown",
   "id": "7bfbe2c5-3e7d-4d2f-ab62-ae0bc2506310",
   "metadata": {},
   "source": [
    "### Alternative Solution:"
   ]
  },
  {
   "cell_type": "code",
   "execution_count": 12,
   "id": "bd0ce8ca-3d85-42b1-bfce-0ad9fcacca54",
   "metadata": {},
   "outputs": [
    {
     "name": "stdin",
     "output_type": "stream",
     "text": [
      "Enter guess:  khkjh\n",
      "Enter guess:  kj;km\n",
      "Enter guess:  kjk\n"
     ]
    },
    {
     "name": "stdout",
     "output_type": "stream",
     "text": [
      "Out of Guesses, YOU LOSE!\n"
     ]
    }
   ],
   "source": [
    "secret_name = \"Python\"\n",
    "guess = \"\"\n",
    "guess_limit = 3\n",
    "guess_count = 0\n",
    "while guess != secret_name and guess_count <= guess_limit:\n",
    "    if guess_count < guess_limit:\n",
    "        guess_count += 1\n",
    "        guess = input(\"Enter guess: \")\n",
    "    else:\n",
    "        guess_count += 1\n",
    "\n",
    "if guess == secret_name:\n",
    "    print(\"YOU WIN!\")\n",
    "else:\n",
    "    print(\"Out of Guesses, YOU LOSE!\")"
   ]
  },
  {
   "cell_type": "code",
   "execution_count": null,
   "id": "c0fc9197-a10e-48c5-8488-9725dfa902a1",
   "metadata": {},
   "outputs": [],
   "source": []
  }
 ],
 "metadata": {
  "kernelspec": {
   "display_name": "Python 3 (ipykernel)",
   "language": "python",
   "name": "python3"
  },
  "language_info": {
   "codemirror_mode": {
    "name": "ipython",
    "version": 3
   },
   "file_extension": ".py",
   "mimetype": "text/x-python",
   "name": "python",
   "nbconvert_exporter": "python",
   "pygments_lexer": "ipython3",
   "version": "3.12.7"
  }
 },
 "nbformat": 4,
 "nbformat_minor": 5
}
