{
 "cells": [
  {
   "cell_type": "markdown",
   "id": "cfac8f4d-5d2e-440d-97a0-93b55bd02c36",
   "metadata": {},
   "source": [
    "# Second Day of My Python Learning Journey\n",
    "## List, Using Functions in a List, Tuple, Creating a Function, if Statement"
   ]
  },
  {
   "cell_type": "code",
   "execution_count": null,
   "id": "1e805f38-7f53-4e1d-ad61-99e2017ac573",
   "metadata": {},
   "outputs": [],
   "source": []
  },
  {
   "cell_type": "markdown",
   "id": "52533290-ed4e-42c1-8e46-368d00284366",
   "metadata": {},
   "source": [
    "### List:"
   ]
  },
  {
   "cell_type": "code",
   "execution_count": null,
   "id": "81a37b8d-6ccf-47bd-a798-8bee62e1aabe",
   "metadata": {},
   "outputs": [],
   "source": []
  },
  {
   "cell_type": "code",
   "execution_count": 235,
   "id": "5001b858-093b-481a-97ed-d124391157ec",
   "metadata": {},
   "outputs": [],
   "source": [
    "friends = [\"Tom\", \"Alice\", \"Jim\", \"oscar\", \"Karen\"]"
   ]
  },
  {
   "cell_type": "code",
   "execution_count": 236,
   "id": "cf4f5f36-4e82-4148-8474-1a2f9b6dbb21",
   "metadata": {},
   "outputs": [
    {
     "name": "stdout",
     "output_type": "stream",
     "text": [
      "['Tom', 'Alice', 'Jim', 'oscar', 'Karen']\n"
     ]
    }
   ],
   "source": [
    "print(friends)"
   ]
  },
  {
   "cell_type": "code",
   "execution_count": 237,
   "id": "9179e0ed-6098-4a85-bf00-abafdf7f1d1f",
   "metadata": {},
   "outputs": [
    {
     "data": {
      "text/plain": [
       "'Tom'"
      ]
     },
     "execution_count": 237,
     "metadata": {},
     "output_type": "execute_result"
    }
   ],
   "source": [
    "friends[0]"
   ]
  },
  {
   "cell_type": "code",
   "execution_count": 238,
   "id": "ca1493cc-fceb-4c7c-b40a-dddc544c5023",
   "metadata": {},
   "outputs": [
    {
     "data": {
      "text/plain": [
       "'oscar'"
      ]
     },
     "execution_count": 238,
     "metadata": {},
     "output_type": "execute_result"
    }
   ],
   "source": [
    "friends[-2]"
   ]
  },
  {
   "cell_type": "code",
   "execution_count": 239,
   "id": "389c96a5-1f30-4d0e-8e9a-f7222edb77cd",
   "metadata": {},
   "outputs": [
    {
     "name": "stdout",
     "output_type": "stream",
     "text": [
      "['Jim', 'oscar', 'Karen']\n"
     ]
    }
   ],
   "source": [
    "print(friends[2:])"
   ]
  },
  {
   "cell_type": "code",
   "execution_count": 240,
   "id": "0063ca3d-3153-4d73-bc2b-01093107897a",
   "metadata": {},
   "outputs": [
    {
     "name": "stdout",
     "output_type": "stream",
     "text": [
      "['Alice', 'Jim', 'oscar']\n"
     ]
    }
   ],
   "source": [
    "print(friends[1:4])"
   ]
  },
  {
   "cell_type": "code",
   "execution_count": 241,
   "id": "f47c8118-866c-47f8-9ea7-37971196d029",
   "metadata": {},
   "outputs": [
    {
     "name": "stdout",
     "output_type": "stream",
     "text": [
      "[]\n"
     ]
    }
   ],
   "source": [
    "print(friends[-1:-4])"
   ]
  },
  {
   "cell_type": "code",
   "execution_count": 242,
   "id": "9aa7df45-7de9-4955-a526-7161590572a0",
   "metadata": {},
   "outputs": [
    {
     "name": "stdout",
     "output_type": "stream",
     "text": [
      "['Karen', 'oscar', 'Jim']\n"
     ]
    }
   ],
   "source": [
    "print(friends[-1:-4:-1])"
   ]
  },
  {
   "cell_type": "code",
   "execution_count": 243,
   "id": "7f9ef028-017a-46c2-bdcc-374b70db223f",
   "metadata": {},
   "outputs": [],
   "source": [
    "friends[-1] = \"Steve\""
   ]
  },
  {
   "cell_type": "code",
   "execution_count": 244,
   "id": "2d71783f-cff9-4075-8a67-d36596e0db59",
   "metadata": {},
   "outputs": [
    {
     "name": "stdout",
     "output_type": "stream",
     "text": [
      "['Tom', 'Alice', 'Jim', 'oscar', 'Steve']\n"
     ]
    }
   ],
   "source": [
    "print(friends)"
   ]
  },
  {
   "cell_type": "code",
   "execution_count": 245,
   "id": "0bc065e2-c736-4f82-8d94-f5ef4ea34b1b",
   "metadata": {},
   "outputs": [
    {
     "data": {
      "text/plain": [
       "['Alice', 'Jim']"
      ]
     },
     "execution_count": 245,
     "metadata": {},
     "output_type": "execute_result"
    }
   ],
   "source": [
    "friends[1:3]"
   ]
  },
  {
   "cell_type": "code",
   "execution_count": 246,
   "id": "0ebd5a18-9405-4c96-b718-f270fbfb163d",
   "metadata": {},
   "outputs": [
    {
     "data": {
      "text/plain": [
       "['Jim', 'oscar', 'Steve']"
      ]
     },
     "execution_count": 246,
     "metadata": {},
     "output_type": "execute_result"
    }
   ],
   "source": [
    "friends[2:]"
   ]
  },
  {
   "cell_type": "code",
   "execution_count": 247,
   "id": "534a5a1f-34f7-4d40-9b39-df7e765aa5c0",
   "metadata": {},
   "outputs": [
    {
     "data": {
      "text/plain": [
       "['Steve', 'oscar', 'Jim']"
      ]
     },
     "execution_count": 247,
     "metadata": {},
     "output_type": "execute_result"
    }
   ],
   "source": [
    "friends[-1:-4:-1]"
   ]
  },
  {
   "cell_type": "code",
   "execution_count": 248,
   "id": "6bfea331-d4ec-4f8c-b0e9-e95a5b40e7a7",
   "metadata": {},
   "outputs": [
    {
     "data": {
      "text/plain": [
       "'oscar'"
      ]
     },
     "execution_count": 248,
     "metadata": {},
     "output_type": "execute_result"
    }
   ],
   "source": [
    "friends[3]"
   ]
  },
  {
   "cell_type": "code",
   "execution_count": 249,
   "id": "359ebf63-d90c-4562-a8e3-ae30d7f3d322",
   "metadata": {},
   "outputs": [
    {
     "name": "stdout",
     "output_type": "stream",
     "text": [
      "oscar\n"
     ]
    }
   ],
   "source": [
    "print(friends[3])"
   ]
  },
  {
   "cell_type": "code",
   "execution_count": null,
   "id": "a2c7a85d-9181-4315-aa4f-b6ca9459e85f",
   "metadata": {},
   "outputs": [],
   "source": []
  },
  {
   "cell_type": "markdown",
   "id": "b8515f3c-4959-4d95-808a-4d27914b0d89",
   "metadata": {},
   "source": [
    "### Using Functions in a List:"
   ]
  },
  {
   "cell_type": "code",
   "execution_count": 250,
   "id": "b7c078a2-0c3f-484f-9590-a385f2d5f02f",
   "metadata": {},
   "outputs": [],
   "source": [
    "friends = [\"Tom\", \"Alice\", \"Jim\", \"Oscare\", \"Karen\", \"Jim\"]"
   ]
  },
  {
   "cell_type": "code",
   "execution_count": 251,
   "id": "c1a6e70b-f42b-4fd4-a343-8358133b5faa",
   "metadata": {},
   "outputs": [],
   "source": [
    "favorite_numbers = [3, 6, 9, 12, 15, 18]"
   ]
  },
  {
   "cell_type": "code",
   "execution_count": 252,
   "id": "95160c90-21c8-4c57-bc45-5f0be2606169",
   "metadata": {},
   "outputs": [
    {
     "data": {
      "text/plain": [
       "1"
      ]
     },
     "execution_count": 252,
     "metadata": {},
     "output_type": "execute_result"
    }
   ],
   "source": [
    "friends.count(\"Karen\")"
   ]
  },
  {
   "cell_type": "code",
   "execution_count": 253,
   "id": "4270e2f1-441a-4d35-a97c-59dc11785abe",
   "metadata": {},
   "outputs": [
    {
     "name": "stdout",
     "output_type": "stream",
     "text": [
      "1\n"
     ]
    }
   ],
   "source": [
    "print(friends.count(\"Karen\"))"
   ]
  },
  {
   "cell_type": "code",
   "execution_count": 254,
   "id": "bc40f55d-6057-4290-be35-646a43dc9911",
   "metadata": {},
   "outputs": [
    {
     "name": "stdout",
     "output_type": "stream",
     "text": [
      "2\n"
     ]
    }
   ],
   "source": [
    "print(friends.count(\"Jim\"))"
   ]
  },
  {
   "cell_type": "code",
   "execution_count": 255,
   "id": "2526b50d-3223-4dd3-958b-dc481a1ceef2",
   "metadata": {},
   "outputs": [
    {
     "name": "stdout",
     "output_type": "stream",
     "text": [
      "4\n"
     ]
    }
   ],
   "source": [
    "print(friends.index(\"Karen\"))"
   ]
  },
  {
   "cell_type": "code",
   "execution_count": 256,
   "id": "f355c37a-7ef2-4cb4-9ece-f244417626a4",
   "metadata": {},
   "outputs": [
    {
     "name": "stdout",
     "output_type": "stream",
     "text": [
      "None\n"
     ]
    }
   ],
   "source": [
    "print(friends.extend(favorite_numbers))"
   ]
  },
  {
   "cell_type": "code",
   "execution_count": 257,
   "id": "e6640e69-62e3-419b-a1b7-26d0ec211064",
   "metadata": {},
   "outputs": [
    {
     "name": "stdout",
     "output_type": "stream",
     "text": [
      "['Tom', 'Alice', 'Jim', 'Oscare', 'Karen', 'Jim', 3, 6, 9, 12, 15, 18]\n"
     ]
    }
   ],
   "source": [
    "print(friends)"
   ]
  },
  {
   "cell_type": "markdown",
   "id": "b62c8326-de40-412a-8245-007cba2a3033",
   "metadata": {},
   "source": [
    "#### Note:\n",
    "##### As we can see, extention is executed but the result isn't returned to be printed. In all situations in which a statement  changes the nature of something, that thing that has changed isn't returned."
   ]
  },
  {
   "cell_type": "code",
   "execution_count": 258,
   "id": "f54a33f1-df50-43d3-bdd2-f1802855602f",
   "metadata": {},
   "outputs": [],
   "source": [
    "favorite_numbers.append(21)"
   ]
  },
  {
   "cell_type": "code",
   "execution_count": 259,
   "id": "a6977413-5f58-4084-9339-e11c0c4a46a5",
   "metadata": {},
   "outputs": [
    {
     "name": "stdout",
     "output_type": "stream",
     "text": [
      "[3, 6, 9, 12, 15, 18, 21]\n"
     ]
    }
   ],
   "source": [
    "print(favorite_numbers)"
   ]
  },
  {
   "cell_type": "code",
   "execution_count": 260,
   "id": "251b435b-756e-49b0-b01e-d95ada3c99ca",
   "metadata": {},
   "outputs": [],
   "source": [
    "friends.insert(6, 0)"
   ]
  },
  {
   "cell_type": "code",
   "execution_count": 261,
   "id": "a9094ff7-6786-4bd5-8640-9245c490ba02",
   "metadata": {},
   "outputs": [
    {
     "name": "stdout",
     "output_type": "stream",
     "text": [
      "['Tom', 'Alice', 'Jim', 'Oscare', 'Karen', 'Jim', 0, 3, 6, 9, 12, 15, 18]\n"
     ]
    }
   ],
   "source": [
    "print(friends)"
   ]
  },
  {
   "cell_type": "code",
   "execution_count": 262,
   "id": "467fdbcd-22f2-4bd2-a5c7-b3103030d5c9",
   "metadata": {},
   "outputs": [],
   "source": [
    "favorite_numbers.remove(21)"
   ]
  },
  {
   "cell_type": "code",
   "execution_count": 263,
   "id": "7dc4ef9c-bf97-4312-95d3-7ab9ce42fb60",
   "metadata": {},
   "outputs": [
    {
     "name": "stdout",
     "output_type": "stream",
     "text": [
      "[3, 6, 9, 12, 15, 18]\n"
     ]
    }
   ],
   "source": [
    "print(favorite_numbers)"
   ]
  },
  {
   "cell_type": "code",
   "execution_count": 264,
   "id": "31c67ef8-0ffb-42f5-abc7-cb1b46bb1e70",
   "metadata": {},
   "outputs": [],
   "source": [
    "friends.remove(\"Jim\")"
   ]
  },
  {
   "cell_type": "code",
   "execution_count": 265,
   "id": "a942db74-bc26-42b6-a3ba-25f20057029c",
   "metadata": {},
   "outputs": [
    {
     "name": "stdout",
     "output_type": "stream",
     "text": [
      "['Tom', 'Alice', 'Oscare', 'Karen', 'Jim', 0, 3, 6, 9, 12, 15, 18]\n"
     ]
    }
   ],
   "source": [
    "print(friends)"
   ]
  },
  {
   "cell_type": "code",
   "execution_count": 266,
   "id": "e2afd7a1-b2a3-4100-a032-bc124567a987",
   "metadata": {},
   "outputs": [],
   "source": [
    "friends.remove(\"Jim\")"
   ]
  },
  {
   "cell_type": "code",
   "execution_count": 267,
   "id": "d7c90983-f9ba-45eb-a3bb-7fd273bf3faf",
   "metadata": {},
   "outputs": [
    {
     "name": "stdout",
     "output_type": "stream",
     "text": [
      "['Tom', 'Alice', 'Oscare', 'Karen', 0, 3, 6, 9, 12, 15, 18]\n"
     ]
    }
   ],
   "source": [
    "print(friends)"
   ]
  },
  {
   "cell_type": "markdown",
   "id": "4e468709-5ef6-4b17-9f8c-09eab4f12158",
   "metadata": {},
   "source": [
    "#### note:\n",
    "##### Since \"remove function\" only remove one item, first it removed the first Jim and secondly it removed the second one."
   ]
  },
  {
   "cell_type": "code",
   "execution_count": 268,
   "id": "12c949fc-241c-4cdc-8bf5-6d988f57bd0a",
   "metadata": {},
   "outputs": [],
   "source": [
    "favorite_numbers.clear()"
   ]
  },
  {
   "cell_type": "code",
   "execution_count": 269,
   "id": "3eb5cc12-1324-4da3-b697-519413a940cb",
   "metadata": {},
   "outputs": [
    {
     "name": "stdout",
     "output_type": "stream",
     "text": [
      "[]\n"
     ]
    }
   ],
   "source": [
    "print(favorite_numbers)"
   ]
  },
  {
   "cell_type": "code",
   "execution_count": 270,
   "id": "60cea64e-d6d8-49b0-9ea2-a61b9511ac6f",
   "metadata": {},
   "outputs": [
    {
     "data": {
      "text/plain": [
       "18"
      ]
     },
     "execution_count": 270,
     "metadata": {},
     "output_type": "execute_result"
    }
   ],
   "source": [
    "friends.pop()"
   ]
  },
  {
   "cell_type": "code",
   "execution_count": 271,
   "id": "e3a0938f-9b62-4bf1-b653-a7fda92a45fa",
   "metadata": {},
   "outputs": [
    {
     "name": "stdout",
     "output_type": "stream",
     "text": [
      "['Tom', 'Alice', 'Oscare', 'Karen', 0, 3, 6, 9, 12, 15]\n"
     ]
    }
   ],
   "source": [
    "print(friends)"
   ]
  },
  {
   "cell_type": "code",
   "execution_count": 272,
   "id": "b9be66bd-c072-4d13-acf0-bc777aa54ff6",
   "metadata": {},
   "outputs": [
    {
     "data": {
      "text/plain": [
       "15"
      ]
     },
     "execution_count": 272,
     "metadata": {},
     "output_type": "execute_result"
    }
   ],
   "source": [
    "friends.pop()"
   ]
  },
  {
   "cell_type": "code",
   "execution_count": 273,
   "id": "de086f8c-e797-4c88-b78f-d2fef3721905",
   "metadata": {},
   "outputs": [
    {
     "data": {
      "text/plain": [
       "12"
      ]
     },
     "execution_count": 273,
     "metadata": {},
     "output_type": "execute_result"
    }
   ],
   "source": [
    "friends.pop()"
   ]
  },
  {
   "cell_type": "code",
   "execution_count": 274,
   "id": "ed5bc3e6-80ce-44f3-9777-07c8f3c6f243",
   "metadata": {},
   "outputs": [
    {
     "data": {
      "text/plain": [
       "9"
      ]
     },
     "execution_count": 274,
     "metadata": {},
     "output_type": "execute_result"
    }
   ],
   "source": [
    "friends.pop()"
   ]
  },
  {
   "cell_type": "code",
   "execution_count": 275,
   "id": "a2173cbf-bb51-4497-b58f-8e5ff842ca84",
   "metadata": {},
   "outputs": [
    {
     "data": {
      "text/plain": [
       "6"
      ]
     },
     "execution_count": 275,
     "metadata": {},
     "output_type": "execute_result"
    }
   ],
   "source": [
    "friends.pop()"
   ]
  },
  {
   "cell_type": "code",
   "execution_count": 276,
   "id": "c3395b0e-3109-4f7e-a4ad-50a099542b51",
   "metadata": {},
   "outputs": [
    {
     "data": {
      "text/plain": [
       "3"
      ]
     },
     "execution_count": 276,
     "metadata": {},
     "output_type": "execute_result"
    }
   ],
   "source": [
    "friends.pop()"
   ]
  },
  {
   "cell_type": "code",
   "execution_count": 277,
   "id": "9d05514c-8020-43d6-a518-b190229c2bd8",
   "metadata": {},
   "outputs": [
    {
     "data": {
      "text/plain": [
       "0"
      ]
     },
     "execution_count": 277,
     "metadata": {},
     "output_type": "execute_result"
    }
   ],
   "source": [
    "friends.pop()"
   ]
  },
  {
   "cell_type": "code",
   "execution_count": 278,
   "id": "b4481f00-8e38-46a7-878d-be5c7961fbd2",
   "metadata": {},
   "outputs": [
    {
     "name": "stdout",
     "output_type": "stream",
     "text": [
      "['Tom', 'Alice', 'Oscare', 'Karen']\n"
     ]
    }
   ],
   "source": [
    "print(friends)"
   ]
  },
  {
   "cell_type": "code",
   "execution_count": 279,
   "id": "599a9d8a-1935-4ea5-9619-86b540eb8cba",
   "metadata": {},
   "outputs": [],
   "source": [
    "friends.insert(2, \"Jim\")"
   ]
  },
  {
   "cell_type": "code",
   "execution_count": 280,
   "id": "9e9177b9-e212-42b8-baab-2f2fba5ba35d",
   "metadata": {},
   "outputs": [
    {
     "name": "stdout",
     "output_type": "stream",
     "text": [
      "['Tom', 'Alice', 'Jim', 'Oscare', 'Karen']\n"
     ]
    }
   ],
   "source": [
    "print(friends)"
   ]
  },
  {
   "cell_type": "code",
   "execution_count": 281,
   "id": "74927024-abf1-48e1-adf0-f66add93e49a",
   "metadata": {},
   "outputs": [],
   "source": [
    "favorite_numbers = [3, 9, 18, 6, 15, 12]"
   ]
  },
  {
   "cell_type": "code",
   "execution_count": 282,
   "id": "8c5cdba5-503b-437b-a3e3-60bed90a2530",
   "metadata": {},
   "outputs": [
    {
     "name": "stdout",
     "output_type": "stream",
     "text": [
      "['Tom', 'Alice', 'Jim', 'Oscare', 'Karen']\n",
      "[3, 9, 18, 6, 15, 12]\n"
     ]
    }
   ],
   "source": [
    "print(friends)\n",
    "print(favorite_numbers)"
   ]
  },
  {
   "cell_type": "code",
   "execution_count": 283,
   "id": "ccaced9b-c818-4c38-91e9-86dd3028521a",
   "metadata": {},
   "outputs": [],
   "source": [
    "friends.sort()\n",
    "favorite_numbers.sort()"
   ]
  },
  {
   "cell_type": "code",
   "execution_count": 284,
   "id": "a2a4b7f9-c114-470f-b8a6-72f50b0c8c3e",
   "metadata": {},
   "outputs": [
    {
     "name": "stdout",
     "output_type": "stream",
     "text": [
      "['Alice', 'Jim', 'Karen', 'Oscare', 'Tom']\n",
      "[3, 6, 9, 12, 15, 18]\n"
     ]
    }
   ],
   "source": [
    "print(friends)\n",
    "print(favorite_numbers)"
   ]
  },
  {
   "cell_type": "code",
   "execution_count": 285,
   "id": "395e87ff-45b5-4325-a92f-0877f5c06ad3",
   "metadata": {},
   "outputs": [],
   "source": [
    "friends.reverse()"
   ]
  },
  {
   "cell_type": "code",
   "execution_count": 286,
   "id": "4358b36f-4aec-413f-8e9a-c27766c55981",
   "metadata": {},
   "outputs": [
    {
     "name": "stdout",
     "output_type": "stream",
     "text": [
      "['Tom', 'Oscare', 'Karen', 'Jim', 'Alice']\n"
     ]
    }
   ],
   "source": [
    "print(friends)"
   ]
  },
  {
   "cell_type": "code",
   "execution_count": 287,
   "id": "fed90714-e4f5-48bf-81a0-5f8bf5b7e8a7",
   "metadata": {},
   "outputs": [
    {
     "name": "stdout",
     "output_type": "stream",
     "text": [
      "['Alice', 'Jim', 'Karen', 'Oscare', 'Tom']\n"
     ]
    }
   ],
   "source": [
    "friends.reverse()\n",
    "print(friends)"
   ]
  },
  {
   "cell_type": "code",
   "execution_count": 288,
   "id": "86a370a5-d006-41e7-91a4-cc008e5c95c7",
   "metadata": {},
   "outputs": [
    {
     "name": "stdout",
     "output_type": "stream",
     "text": [
      "['Alice', 'Jim', 'Karen']\n"
     ]
    }
   ],
   "source": [
    "close_friends = friends.copy()\n",
    "close_friends.remove(\"Tom\")\n",
    "close_friends.remove(\"Oscare\")\n",
    "print(close_friends)"
   ]
  },
  {
   "cell_type": "markdown",
   "id": "efd9acae-4c1b-44c6-b93d-0ce0c9c88ff0",
   "metadata": {},
   "source": [
    "### Tuple:"
   ]
  },
  {
   "cell_type": "code",
   "execution_count": 289,
   "id": "76965026-5e00-45c6-b488-71fcce2b54c5",
   "metadata": {},
   "outputs": [],
   "source": [
    "num = (1, 3, 2, 4)"
   ]
  },
  {
   "cell_type": "code",
   "execution_count": 290,
   "id": "4fb6e9d6-c54a-4e95-9727-5b04c0a950ab",
   "metadata": {},
   "outputs": [
    {
     "name": "stdout",
     "output_type": "stream",
     "text": [
      "(1, 3, 2, 4)\n"
     ]
    }
   ],
   "source": [
    "print(num)"
   ]
  },
  {
   "cell_type": "code",
   "execution_count": 291,
   "id": "77deb821-86c5-4555-9edf-84eb2bbeeff1",
   "metadata": {},
   "outputs": [
    {
     "ename": "AttributeError",
     "evalue": "'tuple' object has no attribute 'remove'",
     "output_type": "error",
     "traceback": [
      "\u001b[1;31m---------------------------------------------------------------------------\u001b[0m",
      "\u001b[1;31mAttributeError\u001b[0m                            Traceback (most recent call last)",
      "Cell \u001b[1;32mIn[291], line 1\u001b[0m\n\u001b[1;32m----> 1\u001b[0m num\u001b[38;5;241m.\u001b[39mremove(\u001b[38;5;241m1\u001b[39m)\n",
      "\u001b[1;31mAttributeError\u001b[0m: 'tuple' object has no attribute 'remove'"
     ]
    }
   ],
   "source": [
    "num.remove(1)"
   ]
  },
  {
   "cell_type": "code",
   "execution_count": 292,
   "id": "24b2586f-0d33-4b3f-818d-65e629dcfbd7",
   "metadata": {},
   "outputs": [
    {
     "ename": "AttributeError",
     "evalue": "'tuple' object has no attribute 'sort'",
     "output_type": "error",
     "traceback": [
      "\u001b[1;31m---------------------------------------------------------------------------\u001b[0m",
      "\u001b[1;31mAttributeError\u001b[0m                            Traceback (most recent call last)",
      "Cell \u001b[1;32mIn[292], line 1\u001b[0m\n\u001b[1;32m----> 1\u001b[0m num\u001b[38;5;241m.\u001b[39msort()\n",
      "\u001b[1;31mAttributeError\u001b[0m: 'tuple' object has no attribute 'sort'"
     ]
    }
   ],
   "source": [
    "num.sort()"
   ]
  },
  {
   "cell_type": "code",
   "execution_count": 293,
   "id": "a33694b8-821a-40da-9364-ab324eedf195",
   "metadata": {},
   "outputs": [
    {
     "ename": "AttributeError",
     "evalue": "'tuple' object has no attribute 'reverse'",
     "output_type": "error",
     "traceback": [
      "\u001b[1;31m---------------------------------------------------------------------------\u001b[0m",
      "\u001b[1;31mAttributeError\u001b[0m                            Traceback (most recent call last)",
      "Cell \u001b[1;32mIn[293], line 1\u001b[0m\n\u001b[1;32m----> 1\u001b[0m num\u001b[38;5;241m.\u001b[39mreverse()\n",
      "\u001b[1;31mAttributeError\u001b[0m: 'tuple' object has no attribute 'reverse'"
     ]
    }
   ],
   "source": [
    "num.reverse()"
   ]
  },
  {
   "cell_type": "markdown",
   "id": "831525a2-3c8f-47f5-8c47-a8f933714dfb",
   "metadata": {},
   "source": [
    "#### Note:\n",
    "##### We can't modify or change data inside a tuple."
   ]
  },
  {
   "cell_type": "code",
   "execution_count": null,
   "id": "cf0df11f-c5cb-4f1d-9000-083018488f98",
   "metadata": {},
   "outputs": [],
   "source": []
  },
  {
   "cell_type": "code",
   "execution_count": 294,
   "id": "0e01fc94-f72d-47e5-9d6f-1145538b64f4",
   "metadata": {},
   "outputs": [
    {
     "data": {
      "text/plain": [
       "1"
      ]
     },
     "execution_count": 294,
     "metadata": {},
     "output_type": "execute_result"
    }
   ],
   "source": [
    "num.count(4)"
   ]
  },
  {
   "cell_type": "code",
   "execution_count": 295,
   "id": "d457e676-e73a-40d1-bc10-210ac099ffbf",
   "metadata": {},
   "outputs": [
    {
     "data": {
      "text/plain": [
       "4"
      ]
     },
     "execution_count": 295,
     "metadata": {},
     "output_type": "execute_result"
    }
   ],
   "source": [
    "num[3]"
   ]
  },
  {
   "cell_type": "code",
   "execution_count": 296,
   "id": "33f52e7b-daaa-41a2-acf2-b9eff9cb8ffc",
   "metadata": {},
   "outputs": [
    {
     "name": "stdout",
     "output_type": "stream",
     "text": [
      "(3, 2, 4)\n"
     ]
    }
   ],
   "source": [
    "print(num[1:])"
   ]
  },
  {
   "cell_type": "code",
   "execution_count": 297,
   "id": "c17df64a-0f91-4247-85a8-70d0bcdad2dc",
   "metadata": {},
   "outputs": [
    {
     "name": "stdout",
     "output_type": "stream",
     "text": [
      "(4, 2, 3, 1)\n"
     ]
    }
   ],
   "source": [
    "print(num[-1:-6:-1])"
   ]
  },
  {
   "cell_type": "code",
   "execution_count": null,
   "id": "a9e8535e-735a-4f41-b0d4-d52252fd7435",
   "metadata": {},
   "outputs": [],
   "source": []
  },
  {
   "cell_type": "markdown",
   "id": "ad3d9dcd-d506-4fd9-910a-bdb8215edcac",
   "metadata": {},
   "source": [
    "### Creating a Function:"
   ]
  },
  {
   "cell_type": "code",
   "execution_count": null,
   "id": "fb03e78f-b1aa-4fe6-b09d-ca3d0fec3904",
   "metadata": {},
   "outputs": [],
   "source": []
  },
  {
   "cell_type": "code",
   "execution_count": 298,
   "id": "60a1041f-32cf-4187-9500-ad76efb442e2",
   "metadata": {},
   "outputs": [],
   "source": [
    "def greet():\n",
    "    print(\"hello\")"
   ]
  },
  {
   "cell_type": "code",
   "execution_count": 299,
   "id": "4e079ac4-505a-4538-97af-518afd16c097",
   "metadata": {},
   "outputs": [
    {
     "name": "stdout",
     "output_type": "stream",
     "text": [
      "hello\n"
     ]
    }
   ],
   "source": [
    "greet()"
   ]
  },
  {
   "cell_type": "code",
   "execution_count": 300,
   "id": "b5f50c32-c3fd-42c0-8195-8fba22de0658",
   "metadata": {},
   "outputs": [],
   "source": [
    "def greet(name):\n",
    "    print(\"hello \" + name)"
   ]
  },
  {
   "cell_type": "code",
   "execution_count": 301,
   "id": "128a61cd-51cb-4a24-8d9d-db38ea59340c",
   "metadata": {},
   "outputs": [
    {
     "name": "stdout",
     "output_type": "stream",
     "text": [
      "hello Vahid\n"
     ]
    }
   ],
   "source": [
    "greet(\"Vahid\")"
   ]
  },
  {
   "cell_type": "code",
   "execution_count": 302,
   "id": "a215bbd8-d664-4a0b-aa4e-38a219d824fc",
   "metadata": {},
   "outputs": [
    {
     "name": "stdout",
     "output_type": "stream",
     "text": [
      "hello 122\n"
     ]
    }
   ],
   "source": [
    "greet('122')"
   ]
  },
  {
   "cell_type": "code",
   "execution_count": 303,
   "id": "c46d275f-1752-4d95-9881-e414fbef0e00",
   "metadata": {},
   "outputs": [
    {
     "name": "stdout",
     "output_type": "stream",
     "text": [
      "Hi Vahid, you are 41 years old.\n",
      "Hi 122, you are 500 years old.\n"
     ]
    }
   ],
   "source": [
    "def greet(name, age):\n",
    "    print(\"Hi \" + name + \", you are \" + age + \" years old.\")\n",
    "\n",
    "greet(\"Vahid\", \"41\")\n",
    "greet(\"122\", \"500\")"
   ]
  },
  {
   "cell_type": "code",
   "execution_count": 304,
   "id": "478d7366-a9fe-4eb6-930b-d2bdd89067a3",
   "metadata": {},
   "outputs": [
    {
     "name": "stdout",
     "output_type": "stream",
     "text": [
      "Hi Vahid, you are 41 years old.\n",
      "Hi 122, you are 500 years old.\n"
     ]
    }
   ],
   "source": [
    "def greet(name, age):\n",
    "    print(\"Hi \" + str(name) + \", you are \" + str(age) + \" years old.\")\n",
    "\n",
    "greet(\"Vahid\", 41)\n",
    "greet(122, 500)"
   ]
  },
  {
   "cell_type": "code",
   "execution_count": 305,
   "id": "8c4811c1-bd9b-45b3-82d5-1935b22df8d1",
   "metadata": {},
   "outputs": [
    {
     "name": "stdout",
     "output_type": "stream",
     "text": [
      "Hi Vahid you are 41 years old.\n",
      "Hi 122 you are 500 years old.\n"
     ]
    }
   ],
   "source": [
    "def greet(name, age):\n",
    "    print(\"Hi\", name, \"you are\", age, \"years old.\")\n",
    "\n",
    "greet(\"Vahid\", 41)\n",
    "greet(122, 500)"
   ]
  },
  {
   "cell_type": "markdown",
   "id": "53dedf07-e2d5-4cd4-9210-4f4b85cfba0f",
   "metadata": {},
   "source": [
    "#### Note:\n",
    "##### In print function, comma converts different types of data to a string. And also it adds a space."
   ]
  },
  {
   "cell_type": "code",
   "execution_count": null,
   "id": "eaa155fb-8120-4d16-b896-0b2729b562a1",
   "metadata": {},
   "outputs": [],
   "source": []
  },
  {
   "cell_type": "code",
   "execution_count": 306,
   "id": "2f796b01-60ab-434e-bc32-cfac45707f15",
   "metadata": {},
   "outputs": [
    {
     "name": "stdout",
     "output_type": "stream",
     "text": [
      "Hi Vahid\n",
      "Hi 122\n",
      "Hi 122\n"
     ]
    }
   ],
   "source": [
    "def welcome1(name):\n",
    "    print(\"Hi\", name)\n",
    "\n",
    "def welcome2(name):\n",
    "    print(\"Hi \" + name)\n",
    "welcome1(\"Vahid\")\n",
    "welcome1(122)\n",
    "welcome2(\"122\")"
   ]
  },
  {
   "cell_type": "code",
   "execution_count": null,
   "id": "faf1717e-35ea-412f-93e6-005fc3479f93",
   "metadata": {},
   "outputs": [],
   "source": []
  },
  {
   "cell_type": "code",
   "execution_count": 307,
   "id": "e10e62cd-b3a7-4ac5-a482-d54b2bd8f9d3",
   "metadata": {},
   "outputs": [],
   "source": [
    "def cube(num):\n",
    "    num*num*num\n",
    "\n",
    "cube(2)"
   ]
  },
  {
   "cell_type": "code",
   "execution_count": 308,
   "id": "fb6dfcd1-dedb-4553-986a-880b8ca404ed",
   "metadata": {},
   "outputs": [
    {
     "name": "stdout",
     "output_type": "stream",
     "text": [
      "None\n"
     ]
    }
   ],
   "source": [
    "print(cube(2))"
   ]
  },
  {
   "cell_type": "code",
   "execution_count": 309,
   "id": "397a2d06-9455-4b08-a8cd-27b7517405f0",
   "metadata": {},
   "outputs": [
    {
     "data": {
      "text/plain": [
       "8"
      ]
     },
     "execution_count": 309,
     "metadata": {},
     "output_type": "execute_result"
    }
   ],
   "source": [
    "def cube(num):\n",
    "    return num*num*num\n",
    "\n",
    "cube(2)"
   ]
  },
  {
   "cell_type": "markdown",
   "id": "3a5a4479-6296-4ca1-8325-e49d40ea2252",
   "metadata": {},
   "source": [
    "#### note:\n",
    "- ##### Cube(2) calles the function.\n",
    "- ##### Inside the function, it calculate 2 * 2 * 2 which is 8. Nothing happens until \"Return\" gives the result back to the place where the functhin was called. So we can print or store the result."
   ]
  },
  {
   "cell_type": "code",
   "execution_count": null,
   "id": "7472e78f-aeab-4ce3-a33c-86a661354ea6",
   "metadata": {},
   "outputs": [],
   "source": []
  },
  {
   "cell_type": "code",
   "execution_count": null,
   "id": "14fd3307-4f1c-4c5e-a21c-efa837fdb562",
   "metadata": {},
   "outputs": [],
   "source": []
  },
  {
   "cell_type": "markdown",
   "id": "b7ac2167-5a7e-4b64-b193-f88f0258b80f",
   "metadata": {},
   "source": [
    "### If Statement:\n",
    "##### It's usually used for decision making"
   ]
  },
  {
   "cell_type": "code",
   "execution_count": null,
   "id": "10369d53-6676-404e-bdc6-5906385d79ef",
   "metadata": {},
   "outputs": [],
   "source": []
  },
  {
   "cell_type": "code",
   "execution_count": 310,
   "id": "3c31e7f9-1843-4151-a650-30162cc41926",
   "metadata": {},
   "outputs": [
    {
     "name": "stdout",
     "output_type": "stream",
     "text": [
      "You're a tall man.\n"
     ]
    }
   ],
   "source": [
    "is_male = True\n",
    "is_tall = True\n",
    "if is_male and is_tall:\n",
    "    print(\"You're a tall man.\")\n",
    "elif is_male and not(is_tall):\n",
    "    print(\"You are a short man.\")\n",
    "elif is_tall and not(is_male):\n",
    "    print('You are a tall woman.')\n",
    "else:\n",
    "    print('You are a short woman.')"
   ]
  },
  {
   "cell_type": "code",
   "execution_count": 311,
   "id": "a8ac4b65-59a6-478c-9e0c-dbce4e464422",
   "metadata": {},
   "outputs": [
    {
     "name": "stdout",
     "output_type": "stream",
     "text": [
      "5\n",
      "None\n"
     ]
    }
   ],
   "source": [
    "def max(num1, num2, num3):\n",
    "    if num1 >= num2 and num1 >= num3:\n",
    "        print(num1)\n",
    "    elif num2 >= num1 and num2 >= num3:\n",
    "        print(num2)\n",
    "    else:\n",
    "        print(num3)\n",
    "\n",
    "print(max(5, 2, 3))"
   ]
  },
  {
   "cell_type": "code",
   "execution_count": 312,
   "id": "6b408203-ef99-4c79-b2fd-1ba85c365120",
   "metadata": {},
   "outputs": [
    {
     "name": "stdout",
     "output_type": "stream",
     "text": [
      "5\n"
     ]
    }
   ],
   "source": [
    "def max(num1, num2, num3):\n",
    "    if num1 >= num2 and num1 >= num3:\n",
    "       return num1\n",
    "    elif num2 >= num1 and num2 >= num3:\n",
    "        return num2\n",
    "    else:\n",
    "        return num3\n",
    "\n",
    "print(max(5, 2, 3))"
   ]
  },
  {
   "cell_type": "code",
   "execution_count": null,
   "id": "5832f20c-6acb-420d-b79b-448e4d838886",
   "metadata": {},
   "outputs": [],
   "source": []
  },
  {
   "cell_type": "code",
   "execution_count": 313,
   "id": "95a8fef1-e2cc-4d7b-ac08-dda95f9c9d0e",
   "metadata": {},
   "outputs": [
    {
     "name": "stdout",
     "output_type": "stream",
     "text": [
      "That's it\n"
     ]
    }
   ],
   "source": [
    "print(\"That's it\")"
   ]
  },
  {
   "cell_type": "markdown",
   "id": "9c130e73-f0b2-42c8-b404-6359fea5bc3b",
   "metadata": {},
   "source": [
    "## That's it"
   ]
  },
  {
   "cell_type": "code",
   "execution_count": null,
   "id": "61409a93-97fb-4b35-9a79-2899d9bf3617",
   "metadata": {},
   "outputs": [],
   "source": []
  },
  {
   "cell_type": "code",
   "execution_count": null,
   "id": "8f3abe4c-fe04-4f2c-8570-6035f7c1b895",
   "metadata": {},
   "outputs": [],
   "source": []
  }
 ],
 "metadata": {
  "kernelspec": {
   "display_name": "Python 3 (ipykernel)",
   "language": "python",
   "name": "python3"
  },
  "language_info": {
   "codemirror_mode": {
    "name": "ipython",
    "version": 3
   },
   "file_extension": ".py",
   "mimetype": "text/x-python",
   "name": "python",
   "nbconvert_exporter": "python",
   "pygments_lexer": "ipython3",
   "version": "3.12.7"
  }
 },
 "nbformat": 4,
 "nbformat_minor": 5
}
