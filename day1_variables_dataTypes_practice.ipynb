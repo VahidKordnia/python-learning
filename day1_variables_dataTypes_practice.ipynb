{
 "cells": [
  {
   "cell_type": "markdown",
   "id": "cfac8f4d-5d2e-440d-97a0-93b55bd02c36",
   "metadata": {},
   "source": [
    "# First Day of My Python Learning Journey\n",
    "## Variables and Data Types Practice\n",
    "### Variables"
   ]
  },
  {
   "cell_type": "code",
   "execution_count": null,
   "id": "09e0da50-b762-4499-a018-c9cad74e5425",
   "metadata": {},
   "outputs": [],
   "source": [
    "my_name = \"Vahid\""
   ]
  },
  {
   "cell_type": "code",
   "execution_count": 2,
   "id": "a39e7e0d-15e4-4623-8b8e-c3730acbb5cd",
   "metadata": {},
   "outputs": [],
   "source": [
    "my_age = \"41\""
   ]
  },
  {
   "cell_type": "code",
   "execution_count": 12,
   "id": "e55df12c-1d76-464b-8358-0e5297f571d7",
   "metadata": {},
   "outputs": [
    {
     "name": "stdout",
     "output_type": "stream",
     "text": [
      "Hi,\n",
      "My name is Vahid. And I am 41 years old.\n"
     ]
    }
   ],
   "source": [
    "print(\"Hi,\\nMy name is \" + my_name + \". And I am \" + my_age + \" years old.\")"
   ]
  },
  {
   "cell_type": "code",
   "execution_count": 13,
   "id": "daf7486d-e090-474e-8e98-63b5ac7fc75d",
   "metadata": {},
   "outputs": [
    {
     "name": "stdout",
     "output_type": "stream",
     "text": [
      "This is the first day of my Python learning journey.\n"
     ]
    }
   ],
   "source": [
    "print(\"This is the first day of my Python learning journey.\")"
   ]
  },
  {
   "cell_type": "code",
   "execution_count": 15,
   "id": "3ef87d29-7c94-4757-98d6-04c3b821c851",
   "metadata": {
    "scrolled": true
   },
   "outputs": [
    {
     "name": "stdout",
     "output_type": "stream",
     "text": [
      "I don't think 40 is too late to learn Python.\n"
     ]
    }
   ],
   "source": [
    "my_age = \"40\"\n",
    "print(\"I don't think \" + my_age + \" is too late to learn Python.\")"
   ]
  },
  {
   "cell_type": "markdown",
   "id": "36226783-c55a-4c5e-b261-6ee0b402d645",
   "metadata": {},
   "source": [
    "### Data Types\n",
    "There are three types of Data:\n",
    "- #### String\n",
    "- #### Boolean\n",
    "- #### Number\n",
    "### String and Related Functions:"
   ]
  },
  {
   "cell_type": "code",
   "execution_count": 24,
   "id": "bb75f505-a31e-4d41-b7d1-1c9a3c91807e",
   "metadata": {},
   "outputs": [
    {
     "name": "stdout",
     "output_type": "stream",
     "text": [
      "Python is \"Incredible\".\n"
     ]
    }
   ],
   "source": [
    "phrase = \"Python\"\n",
    "print(phrase + \" is \\\"Incredible\\\".\")"
   ]
  },
  {
   "cell_type": "code",
   "execution_count": 11,
   "id": "aa13143f-f720-47a1-addb-c899c4c61d23",
   "metadata": {},
   "outputs": [
    {
     "name": "stdout",
     "output_type": "stream",
     "text": [
      "python\n"
     ]
    }
   ],
   "source": [
    "print(phrase.lower())"
   ]
  },
  {
   "cell_type": "code",
   "execution_count": 14,
   "id": "e4f96a66-360e-444a-944b-275eb626cd40",
   "metadata": {},
   "outputs": [
    {
     "name": "stdout",
     "output_type": "stream",
     "text": [
      "VAHID\n"
     ]
    }
   ],
   "source": [
    "print(my_name.upper())"
   ]
  },
  {
   "cell_type": "code",
   "execution_count": 15,
   "id": "51c7eb6d-a739-4446-b698-98d1f8c83b75",
   "metadata": {},
   "outputs": [
    {
     "name": "stdout",
     "output_type": "stream",
     "text": [
      "5\n"
     ]
    }
   ],
   "source": [
    "print(len(my_name))"
   ]
  },
  {
   "cell_type": "code",
   "execution_count": 17,
   "id": "f66fe336-db93-4106-a950-0649e61d147d",
   "metadata": {},
   "outputs": [
    {
     "name": "stdout",
     "output_type": "stream",
     "text": [
      "V\n"
     ]
    }
   ],
   "source": [
    "print(my_name[0])"
   ]
  },
  {
   "cell_type": "code",
   "execution_count": 18,
   "id": "c20d5f34-a399-413e-b9db-9501d006ea2e",
   "metadata": {},
   "outputs": [
    {
     "name": "stdout",
     "output_type": "stream",
     "text": [
      "4\n"
     ]
    }
   ],
   "source": [
    "print(my_name.index(\"d\"))"
   ]
  },
  {
   "cell_type": "code",
   "execution_count": 21,
   "id": "e1c1991d-bedf-4c0d-8214-94c969ebdce3",
   "metadata": {},
   "outputs": [
    {
     "name": "stdout",
     "output_type": "stream",
     "text": [
      "Kord\n"
     ]
    }
   ],
   "source": [
    "print(my_name.replace(\"Vahid\", \"Kord\"))"
   ]
  },
  {
   "cell_type": "code",
   "execution_count": 22,
   "id": "32e45ccc-ec88-4e66-8fa4-0ab2f07b5fa1",
   "metadata": {},
   "outputs": [
    {
     "name": "stdout",
     "output_type": "stream",
     "text": [
      "Vahid\n"
     ]
    }
   ],
   "source": [
    "print(my_name)"
   ]
  },
  {
   "cell_type": "markdown",
   "id": "f94744b0-3351-4f15-8897-65d027270bb5",
   "metadata": {},
   "source": [
    "##### Note:\n",
    "So, by running replace function on a variable, the value of variable change only for that command."
   ]
  },
  {
   "cell_type": "markdown",
   "id": "1cce5780-2f2c-49a0-9890-43278d225275",
   "metadata": {},
   "source": [
    "#### Boolean:"
   ]
  },
  {
   "cell_type": "code",
   "execution_count": 50,
   "id": "57d39454-e105-47d0-a670-50b221fa9d3a",
   "metadata": {},
   "outputs": [
    {
     "name": "stdout",
     "output_type": "stream",
     "text": [
      "False\n"
     ]
    }
   ],
   "source": [
    "print(my_name.isupper())"
   ]
  },
  {
   "cell_type": "code",
   "execution_count": 51,
   "id": "b412c91c-67ad-4b8b-9040-b0ad5435514a",
   "metadata": {},
   "outputs": [
    {
     "name": "stdout",
     "output_type": "stream",
     "text": [
      "True\n"
     ]
    }
   ],
   "source": [
    "print(my_name.upper().isupper())"
   ]
  },
  {
   "cell_type": "markdown",
   "id": "b895e2b6-3461-47a6-811e-7a7b646ab7ff",
   "metadata": {},
   "source": [
    "\n",
    "#### Numbers and Related Functions:"
   ]
  },
  {
   "cell_type": "code",
   "execution_count": 25,
   "id": "8d021598-2da8-4a71-9572-3aafa9056326",
   "metadata": {},
   "outputs": [
    {
     "name": "stdout",
     "output_type": "stream",
     "text": [
      "4\n"
     ]
    }
   ],
   "source": [
    "print(4)"
   ]
  },
  {
   "cell_type": "code",
   "execution_count": 26,
   "id": "8c2bd92c-1ce9-4b06-bcc9-7e495213ae94",
   "metadata": {},
   "outputs": [
    {
     "name": "stdout",
     "output_type": "stream",
     "text": [
      "36\n"
     ]
    }
   ],
   "source": [
    "print(3*12)"
   ]
  },
  {
   "cell_type": "code",
   "execution_count": 27,
   "id": "7ba38a87-2739-4189-ac68-985f5e682236",
   "metadata": {},
   "outputs": [
    {
     "name": "stdout",
     "output_type": "stream",
     "text": [
      "30\n"
     ]
    }
   ],
   "source": [
    "print(4*5+10)"
   ]
  },
  {
   "cell_type": "code",
   "execution_count": 28,
   "id": "7be683b7-c1de-449f-9b7c-3f0aaa477f00",
   "metadata": {},
   "outputs": [
    {
     "name": "stdout",
     "output_type": "stream",
     "text": [
      "60\n"
     ]
    }
   ],
   "source": [
    "print(4*(5+10))"
   ]
  },
  {
   "cell_type": "code",
   "execution_count": 29,
   "id": "3392a2f5-dae3-4603-a789-8ceda2c4cbb2",
   "metadata": {},
   "outputs": [
    {
     "name": "stdout",
     "output_type": "stream",
     "text": [
      "1\n"
     ]
    }
   ],
   "source": [
    "print(17%2)"
   ]
  },
  {
   "cell_type": "code",
   "execution_count": 30,
   "id": "023b54f9-dd77-4fd9-a637-176a8c195406",
   "metadata": {},
   "outputs": [
    {
     "name": "stdout",
     "output_type": "stream",
     "text": [
      "10.0\n"
     ]
    }
   ],
   "source": [
    "print(4*5/2)"
   ]
  },
  {
   "cell_type": "code",
   "execution_count": 31,
   "id": "0ceeefa8-ecfa-428b-b5d2-ceb85c8c7843",
   "metadata": {},
   "outputs": [
    {
     "name": "stdout",
     "output_type": "stream",
     "text": [
      "10.0\n"
     ]
    }
   ],
   "source": [
    "print(4/2*5)"
   ]
  },
  {
   "cell_type": "code",
   "execution_count": 41,
   "id": "3d2aaa61-e094-420a-9e02-a90ba34ce10c",
   "metadata": {},
   "outputs": [
    {
     "name": "stdout",
     "output_type": "stream",
     "text": [
      "27\n"
     ]
    }
   ],
   "source": [
    "print(pow(3, 3))"
   ]
  },
  {
   "cell_type": "code",
   "execution_count": 58,
   "id": "3811e1fa-b6e9-41ba-b4b6-a48c03983713",
   "metadata": {},
   "outputs": [
    {
     "name": "stdout",
     "output_type": "stream",
     "text": [
      "12.0\n"
     ]
    }
   ],
   "source": [
    "print(sqrt(144))"
   ]
  },
  {
   "cell_type": "code",
   "execution_count": 37,
   "id": "29dd1725-e268-4f81-b142-435e2684b620",
   "metadata": {},
   "outputs": [
    {
     "name": "stdout",
     "output_type": "stream",
     "text": [
      "7 is considered sacred in some religions.\n"
     ]
    }
   ],
   "source": [
    "example_number = 7\n",
    "print(str(example_number) + \" is considered sacred in some religions.\")"
   ]
  },
  {
   "cell_type": "code",
   "execution_count": 35,
   "id": "a573877f-e75a-47b9-8d63-17159986c281",
   "metadata": {},
   "outputs": [
    {
     "ename": "TypeError",
     "evalue": "unsupported operand type(s) for +: 'int' and 'str'",
     "output_type": "error",
     "traceback": [
      "\u001b[1;31m---------------------------------------------------------------------------\u001b[0m",
      "\u001b[1;31mTypeError\u001b[0m                                 Traceback (most recent call last)",
      "Cell \u001b[1;32mIn[35], line 1\u001b[0m\n\u001b[1;32m----> 1\u001b[0m \u001b[38;5;28mprint\u001b[39m(example_number \u001b[38;5;241m+\u001b[39m \u001b[38;5;124m\"\u001b[39m\u001b[38;5;124m is considered sacred in some religions.\u001b[39m\u001b[38;5;124m\"\u001b[39m)\n",
      "\u001b[1;31mTypeError\u001b[0m: unsupported operand type(s) for +: 'int' and 'str'"
     ]
    }
   ],
   "source": [
    "print(example_number + \" is considered sacred in some religions.\")"
   ]
  },
  {
   "cell_type": "markdown",
   "id": "ddd4477d-e190-48eb-8433-ecd88d3c98c4",
   "metadata": {},
   "source": [
    "##### Note:\n",
    "print(example_number + \" is considered ... .\") does not work because the variable (example_number) is a number and is not a string (because we don't put 7 between quotations)."
   ]
  },
  {
   "cell_type": "code",
   "execution_count": 39,
   "id": "321f9544-fc9e-4eaf-934d-3e31b9d421be",
   "metadata": {},
   "outputs": [
    {
     "name": "stdout",
     "output_type": "stream",
     "text": [
      "5\n"
     ]
    }
   ],
   "source": [
    "example_number = -5\n",
    "print(abs(example_number))"
   ]
  },
  {
   "cell_type": "code",
   "execution_count": 43,
   "id": "4d477e52-d92e-46ca-8329-3e45a96c3bff",
   "metadata": {},
   "outputs": [
    {
     "name": "stdout",
     "output_type": "stream",
     "text": [
      "3\n"
     ]
    }
   ],
   "source": [
    "print(max(-5, 3))"
   ]
  },
  {
   "cell_type": "code",
   "execution_count": 44,
   "id": "91b1b6e0-a402-4d3b-bb19-73f526916d90",
   "metadata": {},
   "outputs": [
    {
     "name": "stdout",
     "output_type": "stream",
     "text": [
      "3\n"
     ]
    }
   ],
   "source": [
    "print(max(example_number, 3))"
   ]
  },
  {
   "cell_type": "code",
   "execution_count": 45,
   "id": "5133bfcb-c4d8-4250-a689-af2e7094fe8f",
   "metadata": {},
   "outputs": [
    {
     "name": "stdout",
     "output_type": "stream",
     "text": [
      "-9\n"
     ]
    }
   ],
   "source": [
    "print(min(-9, 0))"
   ]
  },
  {
   "cell_type": "code",
   "execution_count": 46,
   "id": "075ed309-e132-4191-8fc9-8a69a6813fd3",
   "metadata": {},
   "outputs": [
    {
     "name": "stdout",
     "output_type": "stream",
     "text": [
      "5\n"
     ]
    }
   ],
   "source": [
    "print(max(abs(example_number), 3))"
   ]
  },
  {
   "cell_type": "code",
   "execution_count": 48,
   "id": "d7060624-04d1-4978-ada5-800a984ca6a5",
   "metadata": {},
   "outputs": [
    {
     "name": "stdout",
     "output_type": "stream",
     "text": [
      "4\n"
     ]
    }
   ],
   "source": [
    "print(round(3.5001))"
   ]
  },
  {
   "cell_type": "code",
   "execution_count": 49,
   "id": "9e49d913-a03a-48e0-9d10-b7460bdd84ef",
   "metadata": {},
   "outputs": [
    {
     "name": "stdout",
     "output_type": "stream",
     "text": [
      "4\n"
     ]
    }
   ],
   "source": [
    "print(round(4.499))"
   ]
  },
  {
   "cell_type": "code",
   "execution_count": 55,
   "id": "b434aa71-941f-4cb9-a32e-9b252859f566",
   "metadata": {},
   "outputs": [
    {
     "name": "stdout",
     "output_type": "stream",
     "text": [
      "3\n"
     ]
    }
   ],
   "source": [
    "print(floor(3.5001))"
   ]
  },
  {
   "cell_type": "code",
   "execution_count": 56,
   "id": "925a7f7e-e11b-4545-b21f-646068e0f46a",
   "metadata": {},
   "outputs": [
    {
     "name": "stdout",
     "output_type": "stream",
     "text": [
      "3\n"
     ]
    }
   ],
   "source": [
    "print(floor(3.99))"
   ]
  },
  {
   "cell_type": "code",
   "execution_count": 57,
   "id": "f43da80f-444e-4a84-91ef-4e3d06319872",
   "metadata": {},
   "outputs": [
    {
     "name": "stdout",
     "output_type": "stream",
     "text": [
      "4\n"
     ]
    }
   ],
   "source": [
    "print(ceil(3.01))"
   ]
  },
  {
   "cell_type": "markdown",
   "id": "a68f6a3d-a09f-48d8-896e-defa056004a5",
   "metadata": {},
   "source": [
    "### Getting Input from Users:"
   ]
  },
  {
   "cell_type": "markdown",
   "id": "e467c5b1-72e4-4526-b9b4-3fae9b3d47df",
   "metadata": {},
   "source": [
    "#### We can make simple interactive programes with Input:"
   ]
  },
  {
   "cell_type": "code",
   "execution_count": 60,
   "id": "ded5e5ee-cabb-4dab-b765-7b360760015c",
   "metadata": {},
   "outputs": [
    {
     "name": "stdin",
     "output_type": "stream",
     "text": [
      "Please enter your name:  Vahid\n"
     ]
    },
    {
     "data": {
      "text/plain": [
       "'Vahid'"
      ]
     },
     "execution_count": 60,
     "metadata": {},
     "output_type": "execute_result"
    }
   ],
   "source": [
    "input(\"Please enter your name: \")"
   ]
  },
  {
   "cell_type": "code",
   "execution_count": 63,
   "id": "9c13f37d-1011-46fe-a7b0-7591e352a055",
   "metadata": {},
   "outputs": [
    {
     "name": "stdin",
     "output_type": "stream",
     "text": [
      "Please enter your name:  Vahid\n"
     ]
    },
    {
     "name": "stdout",
     "output_type": "stream",
     "text": [
      "Hi Vahid!\n"
     ]
    }
   ],
   "source": [
    "name = input(\"Please enter your name: \")\n",
    "print(\"Hi \" + name + \"!\")"
   ]
  },
  {
   "cell_type": "markdown",
   "id": "e85b97fa-d8d2-439e-abe4-06e4b2de87ed",
   "metadata": {},
   "source": [
    "### That's it!"
   ]
  },
  {
   "cell_type": "code",
   "execution_count": null,
   "id": "7530a78b-8965-49dd-aa20-bb4a2a6c323f",
   "metadata": {},
   "outputs": [],
   "source": []
  }
 ],
 "metadata": {
  "kernelspec": {
   "display_name": "Python 3 (ipykernel)",
   "language": "python",
   "name": "python3"
  },
  "language_info": {
   "codemirror_mode": {
    "name": "ipython",
    "version": 3
   },
   "file_extension": ".py",
   "mimetype": "text/x-python",
   "name": "python",
   "nbconvert_exporter": "python",
   "pygments_lexer": "ipython3",
   "version": "3.12.7"
  }
 },
 "nbformat": 4,
 "nbformat_minor": 5
}
