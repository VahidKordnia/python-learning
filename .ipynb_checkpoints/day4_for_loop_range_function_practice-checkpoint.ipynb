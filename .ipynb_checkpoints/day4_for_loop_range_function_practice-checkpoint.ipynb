{
 "cells": [
  {
   "cell_type": "markdown",
   "id": "9ea5ee78-a5f9-498d-935f-6150901b358a",
   "metadata": {},
   "source": [
    "## Fourth Day of My Python Learning Journey\n",
    "### for loop and range() function"
   ]
  },
  {
   "cell_type": "code",
   "execution_count": null,
   "id": "eddde903-1ffe-41f2-99f6-a3fba2a63bc5",
   "metadata": {},
   "outputs": [],
   "source": []
  },
  {
   "cell_type": "markdown",
   "id": "d00f9a90-c1f9-45db-85b7-ac1102f6fc98",
   "metadata": {},
   "source": [
    "## for loop:\n",
    "##### It's a especial loop in Python which allows us to loop over different collections of items. A lot of time we use for loop in Python to loop through a string, list, series of numbers, etc."
   ]
  },
  {
   "cell_type": "markdown",
   "id": "5021bb43-1899-456c-a43e-82eae57b7c38",
   "metadata": {},
   "source": [
    "#### looping through a string:"
   ]
  },
  {
   "cell_type": "code",
   "execution_count": 15,
   "id": "4dea5772-3bcf-4a3f-b811-4003a2ed6f34",
   "metadata": {},
   "outputs": [
    {
     "name": "stdout",
     "output_type": "stream",
     "text": [
      "G\n",
      "i\n",
      "r\n",
      "a\n",
      "f\n",
      "f\n",
      "e\n",
      " \n",
      "A\n",
      "c\n",
      "a\n",
      "d\n",
      "e\n",
      "m\n",
      "y\n"
     ]
    }
   ],
   "source": [
    "for letter in \"Giraffe Academy\":\n",
    "    print(letter)"
   ]
  },
  {
   "cell_type": "markdown",
   "id": "e11d9c55-8c3b-4638-bd54-91a8264e4d7f",
   "metadata": {},
   "source": [
    "### explanation:\n",
    "##### Here **letter** is a **variable** that represent a different value every time we go through the for loop. So it changes in every iteration of the loop and stores a different value.\n",
    "##### What the first line of code gonna say is **for every letter inside of Giraffe Academy, I want to do something**. On the next line we can put what we want to do.\n",
    "##### On the first iteration of the loop it printed out **G**, on the second iteration of the loop it printed out **i**, ... "
   ]
  },
  {
   "cell_type": "code",
   "execution_count": null,
   "id": "75150e62-dce7-4d5b-8004-7e8cc5a27986",
   "metadata": {},
   "outputs": [],
   "source": []
  },
  {
   "cell_type": "markdown",
   "id": "3bdc0628-df8a-4b15-8d2b-2e6ba13645df",
   "metadata": {},
   "source": [
    "#### looping through a list:"
   ]
  },
  {
   "cell_type": "code",
   "execution_count": 16,
   "id": "9330dd87-6bec-4f3f-9511-8287480c2f55",
   "metadata": {},
   "outputs": [
    {
     "name": "stdout",
     "output_type": "stream",
     "text": [
      "Jim\n",
      "Karen\n",
      "Kevin\n"
     ]
    }
   ],
   "source": [
    "friends = [\"Jim\", \"Karen\", \"Kevin\"]\n",
    "for friend in friends:\n",
    "    print(friend)"
   ]
  },
  {
   "cell_type": "markdown",
   "id": "a32bdf5b-20e3-4651-928b-4317dde7a602",
   "metadata": {},
   "source": [
    "### explanation:\n",
    "##### **For each friend in the list (friends), print out the friend**."
   ]
  },
  {
   "cell_type": "code",
   "execution_count": null,
   "id": "9613f63e-273a-464c-835b-9fa43b4bb6e8",
   "metadata": {},
   "outputs": [],
   "source": []
  },
  {
   "cell_type": "markdown",
   "id": "be856b0a-fd69-4d86-8939-c2412e83fee3",
   "metadata": {},
   "source": [
    "## range function (range()):\n",
    "##### In Python, a range is a built-in function use to generate a sequence of numbers. It's often used in loops, especially for loop.\n",
    "### basic syntax:\n",
    "##### range(stop):  starts from zero up to (but not including) stop.\n",
    "##### range(start, stop),\n",
    "##### range(start, stop, step)\n",
    "### key note:\n",
    "##### range() **returns** a range object, not a list(but you can convert it (list(range())). It means range function doesn't store all numbers in memory. So it is efficient for looping."
   ]
  },
  {
   "cell_type": "code",
   "execution_count": 17,
   "id": "0fc241e4-a326-4c9a-9fd0-13f63835e47a",
   "metadata": {},
   "outputs": [
    {
     "data": {
      "text/plain": [
       "range(0, 10)"
      ]
     },
     "execution_count": 17,
     "metadata": {},
     "output_type": "execute_result"
    }
   ],
   "source": [
    "range(10)"
   ]
  },
  {
   "cell_type": "code",
   "execution_count": 18,
   "id": "b637406a-b771-4f41-b41c-3be22948ef60",
   "metadata": {},
   "outputs": [
    {
     "name": "stdout",
     "output_type": "stream",
     "text": [
      "range(0, 10)\n"
     ]
    }
   ],
   "source": [
    "print(range(10))"
   ]
  },
  {
   "cell_type": "code",
   "execution_count": 19,
   "id": "f8d81f31-585c-4042-b854-cbc29063fdc8",
   "metadata": {},
   "outputs": [
    {
     "name": "stdout",
     "output_type": "stream",
     "text": [
      "[0, 1, 2, 3, 4]\n"
     ]
    }
   ],
   "source": [
    "num = list(range(5))\n",
    "print(num)"
   ]
  },
  {
   "cell_type": "code",
   "execution_count": null,
   "id": "9e1fb2a7-470a-476f-b894-70f72882a1cd",
   "metadata": {},
   "outputs": [],
   "source": []
  },
  {
   "cell_type": "markdown",
   "id": "98d60d1d-44fb-4df2-8db5-d843ab1c3afd",
   "metadata": {},
   "source": [
    "### looping through a series of numbers (range()):"
   ]
  },
  {
   "cell_type": "code",
   "execution_count": 20,
   "id": "0800a901-10f4-4765-8ea2-0fb6ceab9ba1",
   "metadata": {},
   "outputs": [
    {
     "name": "stdout",
     "output_type": "stream",
     "text": [
      "0\n",
      "1\n",
      "2\n",
      "3\n",
      "4\n",
      "5\n",
      "6\n",
      "7\n",
      "8\n",
      "9\n"
     ]
    }
   ],
   "source": [
    "for index in range(10):\n",
    "    print(index)"
   ]
  },
  {
   "cell_type": "code",
   "execution_count": 21,
   "id": "06aa29b0-b739-48d8-b4e9-247874b27153",
   "metadata": {},
   "outputs": [
    {
     "name": "stdout",
     "output_type": "stream",
     "text": [
      "3\n",
      "5\n",
      "7\n",
      "9\n"
     ]
    }
   ],
   "source": [
    "for index in range(3, 10, 2):\n",
    "    print(index)"
   ]
  },
  {
   "cell_type": "code",
   "execution_count": 22,
   "id": "a973ff29-dacf-4555-b092-9138db2c9c2b",
   "metadata": {},
   "outputs": [
    {
     "name": "stdout",
     "output_type": "stream",
     "text": [
      "0\n",
      "1\n",
      "2\n"
     ]
    }
   ],
   "source": [
    "for index in range(len(friends)):\n",
    "    print(index)"
   ]
  },
  {
   "cell_type": "code",
   "execution_count": 23,
   "id": "d4e5bca6-f800-43bf-b0b4-43c13aab9390",
   "metadata": {},
   "outputs": [
    {
     "name": "stdout",
     "output_type": "stream",
     "text": [
      "Jim\n",
      "Karen\n",
      "Kevin\n"
     ]
    }
   ],
   "source": [
    "for index in range(len(friends)):\n",
    "    print(friends[index])\n",
    "    \n",
    "    # = for index in range(3):\n",
    "    #        print(friends[index])\n",
    "    # first iteration => print(friends[0])\n",
    "    # second iteration => print(friends[1])\n",
    "    # third iteration => print(friends[2])\n",
    "    # It's a way to printing out elements in a list."
   ]
  },
  {
   "cell_type": "code",
   "execution_count": 24,
   "id": "4d26441e-e1d3-42ab-a134-a48bf6a953c0",
   "metadata": {},
   "outputs": [
    {
     "name": "stdout",
     "output_type": "stream",
     "text": [
      "First Iteration\n",
      "Not First\n",
      "Not First\n",
      "Not First\n",
      "Not First\n"
     ]
    }
   ],
   "source": [
    "for index in range(5):\n",
    "    if index == 0:\n",
    "        print(\"First Iteration\")\n",
    "    else:\n",
    "        print(\"Not First\")"
   ]
  }
 ],
 "metadata": {
  "kernelspec": {
   "display_name": "Python 3 (ipykernel)",
   "language": "python",
   "name": "python3"
  },
  "language_info": {
   "codemirror_mode": {
    "name": "ipython",
    "version": 3
   },
   "file_extension": ".py",
   "mimetype": "text/x-python",
   "name": "python",
   "nbconvert_exporter": "python",
   "pygments_lexer": "ipython3",
   "version": "3.12.7"
  }
 },
 "nbformat": 4,
 "nbformat_minor": 5
}
