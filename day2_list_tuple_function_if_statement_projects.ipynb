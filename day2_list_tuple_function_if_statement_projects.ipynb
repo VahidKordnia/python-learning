{
 "cells": [
  {
   "cell_type": "markdown",
   "id": "98f33b97-e950-4f5d-9900-8298d4257157",
   "metadata": {},
   "source": [
    "# **day 2 - Some Python Projects**"
   ]
  },
  {
   "cell_type": "markdown",
   "id": "7426f6dc-ec05-4278-82b9-c18d8d667572",
   "metadata": {},
   "source": [
    "### Age Checker - Movie Ticket Price Calculator - Login System"
   ]
  },
  {
   "cell_type": "code",
   "execution_count": null,
   "id": "156d3907-c3e3-45c3-b6ef-d54d385e2117",
   "metadata": {},
   "outputs": [],
   "source": []
  },
  {
   "cell_type": "markdown",
   "id": "b42e06c2-ad7a-4fdf-9694-ccff75e12bd4",
   "metadata": {},
   "source": [
    "## **Age Checker**\n",
    "### This project aims to classify individuals into age groups based on their age."
   ]
  },
  {
   "cell_type": "code",
   "execution_count": 40,
   "id": "e323402f-80b4-47d4-9ef2-4107586dba3c",
   "metadata": {},
   "outputs": [
    {
     "name": "stdin",
     "output_type": "stream",
     "text": [
      "how old are you:  80\n"
     ]
    },
    {
     "name": "stdout",
     "output_type": "stream",
     "text": [
      "You are an elderly.\n"
     ]
    }
   ],
   "source": [
    "name = int(input(\"how old are you: \"))\n",
    "if name <= 12 :\n",
    "    print(\"You are a kid.\")\n",
    "elif name > 12 and name <=19 :\n",
    "    print (\"You are a teenager.\")\n",
    "elif name > 19 and name <=35 :\n",
    "    print(\"You are a young adult.\")\n",
    "elif name >35 and name <= 64 :\n",
    "    print(\"You are an adult.\")\n",
    "else:\n",
    "    print(\"You are an elderly.\")"
   ]
  },
  {
   "cell_type": "code",
   "execution_count": null,
   "id": "fad4cdf9-b1f5-44cc-9d02-ded29eb806e5",
   "metadata": {},
   "outputs": [],
   "source": []
  },
  {
   "cell_type": "markdown",
   "id": "0f152d5e-30cf-4e72-bfd7-cb91f188dc7f",
   "metadata": {},
   "source": [
    "## **Movie Ticket Price Calculator**\n",
    "### This project calculates movie ticket prices by assigning different rates based on person's age group."
   ]
  },
  {
   "cell_type": "code",
   "execution_count": 41,
   "id": "ad37731d-f7f8-466c-8044-9301d232925e",
   "metadata": {},
   "outputs": [
    {
     "name": "stdin",
     "output_type": "stream",
     "text": [
      "Enter your age:  59\n"
     ]
    },
    {
     "name": "stdout",
     "output_type": "stream",
     "text": [
      "Ticket costs 10$ \n"
     ]
    }
   ],
   "source": [
    "name = int(input(\"Enter your age: \"))\n",
    "if name < 5 :\n",
    "    print(\"Ticket is free.\")\n",
    "elif name >= 5 and name <= 12 :\n",
    "    print(\"Ticket costs 5$\")\n",
    "elif name >= 12 and name <=59 :\n",
    "    print(\"Ticket costs 10$ \")\n",
    "else :\n",
    "    print(\"Ticket costs 7$\")"
   ]
  },
  {
   "cell_type": "code",
   "execution_count": null,
   "id": "40f3b95a-2860-4a6f-9c62-cfbc8fe65369",
   "metadata": {},
   "outputs": [],
   "source": []
  },
  {
   "cell_type": "markdown",
   "id": "e9be3f69-f434-4fcf-ace2-05e9e214c7f9",
   "metadata": {},
   "source": [
    "## **Login System**\n",
    "### This project aims to creat a program that checks the validity of a username and password."
   ]
  },
  {
   "cell_type": "code",
   "execution_count": 1,
   "id": "8979c052-946b-47f7-9d02-13b9c09cbb49",
   "metadata": {},
   "outputs": [
    {
     "name": "stdin",
     "output_type": "stream",
     "text": [
      "Username:  Vahid\n",
      "Password:  2025\n"
     ]
    },
    {
     "name": "stdout",
     "output_type": "stream",
     "text": [
      "Login successful!\n"
     ]
    }
   ],
   "source": [
    "correct_username = \"Vahid\"\n",
    "correct_password = \"2025\"\n",
    "username = input(\"Username: \")\n",
    "password = input(\"Password: \")\n",
    "if username == correct_username and password == correct_password :\n",
    "    print(\"Login successful!\")\n",
    "elif username != correct_username and password == correct_password :\n",
    "    print(\"Wrong username!\")\n",
    "elif username == correct_username and password != correct_password :\n",
    "    print(\"Wrong password!\")\n",
    "else :\n",
    "    print(\"Wrong username and password!\")"
   ]
  },
  {
   "cell_type": "code",
   "execution_count": null,
   "id": "8ee14f2d-ab76-47e3-8cb7-cf53b86d8ca4",
   "metadata": {},
   "outputs": [],
   "source": []
  },
  {
   "cell_type": "markdown",
   "id": "3710edeb-bde0-4bb0-bb4c-efc5b6851bd4",
   "metadata": {},
   "source": [
    "### In case of more than one user:"
   ]
  },
  {
   "cell_type": "code",
   "execution_count": 29,
   "id": "ac669283-0c96-43c4-bc89-90a157d1ca6f",
   "metadata": {},
   "outputs": [
    {
     "name": "stdin",
     "output_type": "stream",
     "text": [
      "Username:  Karen\n",
      "Password:  1414\n"
     ]
    },
    {
     "name": "stdout",
     "output_type": "stream",
     "text": [
      "Login Successful!\n"
     ]
    }
   ],
   "source": [
    "users = [[\"Tom\", \"1212\"], [\"Jim\", \"aaaa\"], [\"Karen\", \"1414\"]]\n",
    "username = input(\"Username: \")\n",
    "password = input(\"Password: \")\n",
    "if [username, password] in users:\n",
    "        print(\"Login Successful!\")\n",
    "else:\n",
    "    print(\"Invalid Username or Password!\")"
   ]
  },
  {
   "cell_type": "code",
   "execution_count": null,
   "id": "168f9691-261a-4b72-adde-8e93fb4e1317",
   "metadata": {},
   "outputs": [],
   "source": []
  },
  {
   "cell_type": "markdown",
   "id": "19337f23-e548-4f35-a7e1-5dcfb3aaca1a",
   "metadata": {},
   "source": [
    "### Alternative Solution:"
   ]
  },
  {
   "cell_type": "code",
   "execution_count": 39,
   "id": "8d21828c-1179-4186-987f-15641d9ad109",
   "metadata": {},
   "outputs": [
    {
     "name": "stdin",
     "output_type": "stream",
     "text": [
      "Username:  Jim\n",
      "password:  aaaa\n"
     ]
    },
    {
     "name": "stdout",
     "output_type": "stream",
     "text": [
      "Login Successful!\n"
     ]
    }
   ],
   "source": [
    "users = [[\"Tom\", \"1212\"], [\"Jim\", \"aaaa\"], [\"Karen\", \"1414\"]]\n",
    "def login(username, password):\n",
    "    if [username, password] in users:\n",
    "        print(\"Login Successful!\")\n",
    "    else:\n",
    "        print(\"Invalid Username or Password!\")\n",
    "\n",
    "username = input(\"Username: \")\n",
    "password = input(\"password: \")\n",
    "login(username, password)"
   ]
  },
  {
   "cell_type": "code",
   "execution_count": null,
   "id": "1cd7df9f-bdf1-451c-b089-203591459089",
   "metadata": {},
   "outputs": [],
   "source": []
  },
  {
   "cell_type": "markdown",
   "id": "93adb86d-5991-4e92-8bb3-60aa8406254f",
   "metadata": {},
   "source": [
    "## Simple Calculator\n",
    "### This project aims to creat a program that takes two numbers and an operater from the user, then displays the calculation result."
   ]
  },
  {
   "cell_type": "code",
   "execution_count": 2,
   "id": "c3f23f86-b106-47c4-8823-46c7d69ad08e",
   "metadata": {},
   "outputs": [
    {
     "name": "stdin",
     "output_type": "stream",
     "text": [
      "Enter first number:  144\n",
      "Enter an Operator:  /\n",
      "Enter Second Number:  12\n"
     ]
    },
    {
     "name": "stdout",
     "output_type": "stream",
     "text": [
      "12.0\n"
     ]
    }
   ],
   "source": [
    "first_number = float(input(\"Enter first number: \"))\n",
    "operator = input(\"Enter an Operator: \")\n",
    "second_number = float(input(\"Enter Second Number: \"))\n",
    "if operator == \"+\":\n",
    "    print(first_number + second_number)\n",
    "elif operator == \"-\":\n",
    "    print(first_number - second_number)\n",
    "elif operator == \"*\":\n",
    "    print(first_number * second_number)\n",
    "elif operator == \"/\":\n",
    "    print(first_number / second_number)\n",
    "elif operator == \"**\":\n",
    "    print(first_number ** second_number)\n",
    "else:\n",
    "    print(\"Invalid Operator!\")"
   ]
  },
  {
   "cell_type": "code",
   "execution_count": null,
   "id": "e247bd51-3351-496d-9a8f-3c16789e8fbb",
   "metadata": {},
   "outputs": [],
   "source": []
  }
 ],
 "metadata": {
  "kernelspec": {
   "display_name": "Python 3 (ipykernel)",
   "language": "python",
   "name": "python3"
  },
  "language_info": {
   "codemirror_mode": {
    "name": "ipython",
    "version": 3
   },
   "file_extension": ".py",
   "mimetype": "text/x-python",
   "name": "python",
   "nbconvert_exporter": "python",
   "pygments_lexer": "ipython3",
   "version": "3.12.7"
  }
 },
 "nbformat": 4,
 "nbformat_minor": 5
}
