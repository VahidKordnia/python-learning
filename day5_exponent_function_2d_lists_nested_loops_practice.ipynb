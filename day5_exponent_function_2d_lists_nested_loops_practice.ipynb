{
 "cells": [
  {
   "cell_type": "markdown",
   "id": "45db1e95-08d3-4a86-b912-b6b7a81b8f0d",
   "metadata": {},
   "source": [
    "## Fifth Day of My Python Learning\n",
    "### Building an Exponent Function, 2D Lists, Nested Loops"
   ]
  },
  {
   "cell_type": "code",
   "execution_count": null,
   "id": "020090cc-d691-4541-befb-b9d122e744f5",
   "metadata": {},
   "outputs": [],
   "source": []
  },
  {
   "cell_type": "markdown",
   "id": "218c1a13-22cd-4785-92ce-92e4b164ffba",
   "metadata": {},
   "source": [
    "### Exponent Function"
   ]
  },
  {
   "cell_type": "markdown",
   "id": "030bc91e-875f-4d59-b93b-165da01ff85e",
   "metadata": {},
   "source": [
    "##### We are going to buit an exponent function by using for loop"
   ]
  },
  {
   "cell_type": "code",
   "execution_count": 19,
   "id": "70b318bc-41c1-4a7a-a8d7-d0b30f676ccc",
   "metadata": {},
   "outputs": [],
   "source": [
    "def raise_to_power(base_num, pow_num):\n",
    "    result = 1\n",
    "    for index in range(pow_num):\n",
    "        result = result * base_num\n",
    "       \n",
    "    return result"
   ]
  },
  {
   "cell_type": "code",
   "execution_count": 20,
   "id": "d36b470c-b79e-4f02-ac52-477fa18c6324",
   "metadata": {},
   "outputs": [
    {
     "name": "stdout",
     "output_type": "stream",
     "text": [
      "81\n"
     ]
    }
   ],
   "source": [
    "print(raise_to_power(3, 4))"
   ]
  },
  {
   "cell_type": "markdown",
   "id": "a82d6b81-8beb-47ab-9673-f45716f04f2d",
   "metadata": {},
   "source": [
    "### note:\n",
    "##### Here, the for loop is simply used for iteration."
   ]
  },
  {
   "cell_type": "code",
   "execution_count": null,
   "id": "2f576bb4-b92d-4a72-ad61-1bf006c90943",
   "metadata": {},
   "outputs": [],
   "source": []
  },
  {
   "cell_type": "markdown",
   "id": "e9bdf853-aa45-460c-b3c5-9ef552fce5ae",
   "metadata": {},
   "source": [
    "### 2D (two Dimentional) Lists\n",
    "##### We are going to create a grid like structure inside of Python using two dimentional lists."
   ]
  },
  {
   "cell_type": "code",
   "execution_count": 21,
   "id": "a7ce6afd-5c7c-4569-86b0-f9f921f26cae",
   "metadata": {},
   "outputs": [],
   "source": [
    "number_grid = [\n",
    "    [1, 2, 3],\n",
    "    [4, 5, 6],\n",
    "    [7, 8, 9],\n",
    "    [0]\n",
    "]\n",
    "# this is a grid with 4 rows and 3 columns."
   ]
  },
  {
   "cell_type": "markdown",
   "id": "985047cb-fd1a-4c40-90a3-a54681ca72e5",
   "metadata": {},
   "source": [
    "##### accessing individual elements inside of this list structure:"
   ]
  },
  {
   "cell_type": "code",
   "execution_count": 22,
   "id": "ef3d8dde-5e24-4f8e-a51d-50adf6066a41",
   "metadata": {},
   "outputs": [
    {
     "name": "stdout",
     "output_type": "stream",
     "text": [
      "1\n"
     ]
    }
   ],
   "source": [
    "print(number_grid[0][0])"
   ]
  },
  {
   "cell_type": "code",
   "execution_count": 24,
   "id": "ee80ed33-151c-439d-b81b-92eda9e97a0f",
   "metadata": {},
   "outputs": [
    {
     "name": "stdout",
     "output_type": "stream",
     "text": [
      "8\n"
     ]
    }
   ],
   "source": [
    "print(number_grid[2][1])"
   ]
  },
  {
   "cell_type": "markdown",
   "id": "478b8d77-70fb-4590-a379-f5faf0ac8c31",
   "metadata": {},
   "source": [
    "##### The first index represents rows and the second one represents columns."
   ]
  },
  {
   "cell_type": "code",
   "execution_count": null,
   "id": "c3e02d45-8e01-4810-b04d-4afa385d937c",
   "metadata": {},
   "outputs": [],
   "source": []
  },
  {
   "cell_type": "markdown",
   "id": "4c3f76d0-b093-43de-b4a3-67d3eb5daba2",
   "metadata": {},
   "source": [
    "### Nested Loops:\n",
    "##### Nested for loop is a situation where we have a for loop inside a for loop.\n",
    "##### we are going to print out all the elements inside number_grid list using nested for loop"
   ]
  },
  {
   "cell_type": "code",
   "execution_count": 25,
   "id": "6953ae34-0da9-4992-b940-cb76f212333a",
   "metadata": {},
   "outputs": [
    {
     "name": "stdout",
     "output_type": "stream",
     "text": [
      "[1, 2, 3]\n",
      "[4, 5, 6]\n",
      "[7, 8, 9]\n",
      "[0]\n"
     ]
    }
   ],
   "source": [
    "for row in number_grid:\n",
    "    print(row)"
   ]
  },
  {
   "cell_type": "code",
   "execution_count": 27,
   "id": "6a75f6c0-f47b-49f6-8563-502129ddd428",
   "metadata": {},
   "outputs": [
    {
     "name": "stdout",
     "output_type": "stream",
     "text": [
      "1\n",
      "2\n",
      "3\n",
      "4\n",
      "5\n",
      "6\n",
      "7\n",
      "8\n",
      "9\n",
      "0\n"
     ]
    }
   ],
   "source": [
    "for row in number_grid:\n",
    "    for column in row:\n",
    "        print(column)"
   ]
  },
  {
   "cell_type": "code",
   "execution_count": null,
   "id": "a412045a-1612-4296-9652-ab42c6baf128",
   "metadata": {},
   "outputs": [],
   "source": []
  }
 ],
 "metadata": {
  "kernelspec": {
   "display_name": "Python 3 (ipykernel)",
   "language": "python",
   "name": "python3"
  },
  "language_info": {
   "codemirror_mode": {
    "name": "ipython",
    "version": 3
   },
   "file_extension": ".py",
   "mimetype": "text/x-python",
   "name": "python",
   "nbconvert_exporter": "python",
   "pygments_lexer": "ipython3",
   "version": "3.12.7"
  }
 },
 "nbformat": 4,
 "nbformat_minor": 5
}
