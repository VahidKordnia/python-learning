{
 "cells": [
  {
   "cell_type": "markdown",
   "id": "c820931a-aa41-4128-9813-8a87326ab60b",
   "metadata": {},
   "source": [
    "# **Day7 - Python Project**"
   ]
  },
  {
   "cell_type": "markdown",
   "id": "20ec7f8f-8a6a-492d-abe0-228b4e4888c1",
   "metadata": {},
   "source": [
    "## Building a Simple Multiple Choice Quiz (Using classes, if statements, and loops)"
   ]
  },
  {
   "cell_type": "markdown",
   "id": "ea12b0c8-a3d6-4d5a-95e1-809cb3fe0a1f",
   "metadata": {},
   "source": [
    "### Fetures:\n",
    "#### We're gonna set up a little multiple choise quiz and we'll have the user take the quiz. And as they take the quiz, we'll keep track of their score and then at the end we'll tell them how they did."
   ]
  },
  {
   "cell_type": "code",
   "execution_count": 1,
   "id": "9a677859-9563-4849-a0fd-2903414c45c0",
   "metadata": {},
   "outputs": [],
   "source": [
    "# First, we should creat the class \"Question\" in a new .py file (Question.py).\n",
    "\n",
    "# In Question.py file:\n",
    "# class Question:\n",
    "#     def __init__(self, prompt, answer):\n",
    "#         self.prompt = prompt\n",
    "#         self.answer = answer\n",
    "        "
   ]
  },
  {
   "cell_type": "code",
   "execution_count": null,
   "id": "3a5d0670-b38b-4444-bed7-a6fea67cce05",
   "metadata": {},
   "outputs": [],
   "source": [
    "from Question import Question\n",
    "question_prompt = [\n",
    "    \"What color are apples?\\n(a) Red/Green\\n(b) Purple\\n(c) Orange\\n\\n\",\n",
    "    \"What color are bananas?\\n(a) Teal\\n(b) Magenta\\n(c) Yellow\\n\\n\",\n",
    "    \"What color are strawberries?\\n(a) Yellow\\n(b) Red\\n(c) Blue\\n\\n\"\n",
    "]\n",
    "\n",
    "questions = [\n",
    "    Question(question_prompt[0], \"a\"),      # (\"What color are apples?\\n(a) Red/Green\\n(b) Purple\\n(c) Orange\\n\\n\", \"a\") = (prompt, answer)\n",
    "    Question(question_prompt[1], \"c\"),   \n",
    "    Question(question_prompt[2], \"b\")\n",
    "]\n",
    "\n",
    "def run_test(questions):\n",
    "    score = 0\n",
    "    for question in questions:             # question = (question_prompt, answer),,, This answer is what are inside \n",
    "        answer = input(question.prompt)    # the questions object not the answer that users enter.\n",
    "        if answer == question.answer:      # question.answer refers to the answer inside the object\n",
    "            score += 1\n",
    "    print(\"You got \" + str(score) + \"/\" + str(len(questions)) + \" correct\" )\n",
    "\n",
    "run_test(questions)"
   ]
  },
  {
   "cell_type": "code",
   "execution_count": null,
   "id": "6258afee-1f46-427a-9cb0-6b04d67dac78",
   "metadata": {},
   "outputs": [],
   "source": []
  },
  {
   "cell_type": "code",
   "execution_count": null,
   "id": "45d24901-b2a3-4645-81bf-ed036b3a50a0",
   "metadata": {},
   "outputs": [],
   "source": []
  },
  {
   "cell_type": "code",
   "execution_count": 12,
   "id": "c6ed1d2c-b201-48a9-a177-63726be07d11",
   "metadata": {},
   "outputs": [
    {
     "name": "stdin",
     "output_type": "stream",
     "text": [
      "What color are apples?\n",
      "(a) Red/Green\n",
      "(b) Purple\n",
      "(c) Orange\n",
      "\n",
      " a\n",
      "What color are bananas?\n",
      "(a) Teal\n",
      "(b) Magenta\n",
      "(c) Yellow\n",
      "\n",
      " c\n",
      "What color are strawberries?\n",
      "(a) Yellow\n",
      "(b) Red\n",
      "(c) Blue\n",
      "\n",
      " c\n"
     ]
    },
    {
     "name": "stdout",
     "output_type": "stream",
     "text": [
      "You got 2/3 correct\n"
     ]
    }
   ],
   "source": [
    "class Question:\n",
    "    def __init__(self, prompt, answer):\n",
    "        self.prompt = prompt\n",
    "        self.answer = answer\n",
    "\n",
    "question_prompt = [\n",
    "    \"What color are apples?\\n(a) Red/Green\\n(b) Purple\\n(c) Orange\\n\\n\",\n",
    "    \"What color are bananas?\\n(a) Teal\\n(b) Magenta\\n(c) Yellow\\n\\n\",\n",
    "    \"What color are strawberries?\\n(a) Yellow\\n(b) Red\\n(c) Blue\\n\\n\"\n",
    "]\n",
    "\n",
    "questions = [\n",
    "    Question(question_prompt[0], \"a\"),      # (\"What color are apples?\\n(a) Red/Green\\n(b) Purple\\n(c) Orange\\n\\n\", \"a\") = (prompt, answer)\n",
    "    Question(question_prompt[1], \"c\"),   \n",
    "    Question(question_prompt[2], \"b\")\n",
    "]\n",
    "\n",
    "def run_test(questions):\n",
    "    score = 0\n",
    "    for question in questions:             # question = (question_prompt, answer),,, This answer is what are inside \n",
    "        answer = input(question.prompt)    # the questions object not the answer that users enter.\n",
    "        if answer == question.answer:      # question.answer refers to the answer inside the object\n",
    "            score += 1\n",
    "    print(\"You got \" + str(score) + \"/\" + str(len(questions)) + \" correct\" )\n",
    "\n",
    "run_test(questions)"
   ]
  },
  {
   "cell_type": "code",
   "execution_count": null,
   "id": "1debcce3-7595-405d-ad06-515639d67039",
   "metadata": {},
   "outputs": [],
   "source": []
  }
 ],
 "metadata": {
  "kernelspec": {
   "display_name": "Python 3 (ipykernel)",
   "language": "python",
   "name": "python3"
  },
  "language_info": {
   "codemirror_mode": {
    "name": "ipython",
    "version": 3
   },
   "file_extension": ".py",
   "mimetype": "text/x-python",
   "name": "python",
   "nbconvert_exporter": "python",
   "pygments_lexer": "ipython3",
   "version": "3.12.7"
  }
 },
 "nbformat": 4,
 "nbformat_minor": 5
}
