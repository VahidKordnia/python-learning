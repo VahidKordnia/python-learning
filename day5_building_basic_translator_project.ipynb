{
 "cells": [
  {
   "cell_type": "markdown",
   "id": "dcd9cd02-dcca-4832-8b18-bcf8a5b92505",
   "metadata": {},
   "source": [
    "# **Day 5 - Python Project**"
   ]
  },
  {
   "cell_type": "markdown",
   "id": "908e8e07-41a3-4371-8e0f-6ad1e424cbf6",
   "metadata": {},
   "source": [
    "## Building a Basic Translator:\n",
    "##### how to build a basic translator in Python\n",
    "##### So we have an imaginary language called \"Giraffe Language\"\n",
    "##### In this language all vowels gonna be \"g\" (the only difference between English language and Giraffe language)\n",
    "##### for example: dog --> dgg   or    cat  -->  cgt"
   ]
  },
  {
   "cell_type": "code",
   "execution_count": 10,
   "id": "3dab460f-f311-40df-a7e4-e3733cd1dbd6",
   "metadata": {},
   "outputs": [],
   "source": [
    "def translate(phrase):\n",
    "    translation = \"\"\n",
    "    for letter in phrase:\n",
    "        if letter in \"AEIOUaeiou\":\n",
    "            translation = translation + \"g\"\n",
    "        else:\n",
    "            translation = translation + letter\n",
    "\n",
    "    return translation"
   ]
  },
  {
   "cell_type": "code",
   "execution_count": 15,
   "id": "12f35819-1c34-486f-84bd-2d98af831dd7",
   "metadata": {},
   "outputs": [
    {
     "name": "stdin",
     "output_type": "stream",
     "text": [
      "Enter a Phrase:  vahid kordnia\n"
     ]
    },
    {
     "name": "stdout",
     "output_type": "stream",
     "text": [
      "vghgd kgrdngg\n"
     ]
    }
   ],
   "source": [
    "print(translate(input(\"Enter a Phrase: \")))"
   ]
  },
  {
   "cell_type": "markdown",
   "id": "15603f71-e8df-4273-a8d2-cbdd4a2b5a27",
   "metadata": {},
   "source": [
    "##### let's update the code a little"
   ]
  },
  {
   "cell_type": "code",
   "execution_count": 3,
   "id": "0c6edaa0-aad0-4651-98aa-4f63d39d9abb",
   "metadata": {},
   "outputs": [],
   "source": [
    "def translate(phrase):\n",
    "    translation = \"\"\n",
    "    for letter in phrase:\n",
    "        if letter.upper() in \"AEIOU\":\n",
    "            translation = translation + \"g\"\n",
    "        else:\n",
    "            translation = translation + letter\n",
    "\n",
    "    return translation"
   ]
  },
  {
   "cell_type": "code",
   "execution_count": 4,
   "id": "512ee08d-68bd-4fc7-9437-29d3bd8dbbb8",
   "metadata": {},
   "outputs": [
    {
     "name": "stdin",
     "output_type": "stream",
     "text": [
      "Enter a Phrase:  vahid kordnia\n"
     ]
    },
    {
     "name": "stdout",
     "output_type": "stream",
     "text": [
      "vghgd kgrdngg\n"
     ]
    }
   ],
   "source": [
    "print(translate(input(\"Enter a Phrase: \")))"
   ]
  },
  {
   "cell_type": "markdown",
   "id": "a433bf5c-424e-4fbd-bfdb-f0695babf4dc",
   "metadata": {},
   "source": [
    "##### what if the phrase starts with a capital letter? for example: Ihan Imaee"
   ]
  },
  {
   "cell_type": "code",
   "execution_count": 5,
   "id": "f4757161-4601-4999-918b-9df9b019b43e",
   "metadata": {},
   "outputs": [
    {
     "name": "stdin",
     "output_type": "stream",
     "text": [
      "Enter a Phrase:  Ihan Imaee\n"
     ]
    },
    {
     "name": "stdout",
     "output_type": "stream",
     "text": [
      "ghgn gmggg\n"
     ]
    }
   ],
   "source": [
    "print(translate(input(\"Enter a Phrase: \")))"
   ]
  },
  {
   "cell_type": "code",
   "execution_count": 6,
   "id": "78652831-dc77-4d2f-89b5-5d620ff10c27",
   "metadata": {},
   "outputs": [],
   "source": [
    "def translate(phrase):\n",
    "    translation = \"\"\n",
    "    for letter in phrase:\n",
    "        if letter.upper() in \"AEIOU\":\n",
    "            if letter == letter.upper():\n",
    "               translation = translation + \"G\"\n",
    "            else:\n",
    "                translation = translation + \"g\"\n",
    "        else:\n",
    "            translation = translation + letter\n",
    "\n",
    "    return translation"
   ]
  },
  {
   "cell_type": "code",
   "execution_count": 7,
   "id": "3c978caf-1cfc-47d2-961b-7a5b5c62ab35",
   "metadata": {},
   "outputs": [
    {
     "name": "stdin",
     "output_type": "stream",
     "text": [
      "Enter a Phrase:  Iham Imaee\n"
     ]
    },
    {
     "name": "stdout",
     "output_type": "stream",
     "text": [
      "Ghgm Gmggg\n"
     ]
    }
   ],
   "source": [
    "print(translate(input(\"Enter a Phrase: \")))"
   ]
  },
  {
   "cell_type": "markdown",
   "id": "ba92777f-b415-48ec-a340-0eb90713fc7f",
   "metadata": {},
   "source": [
    "##### let's modify the code slightly"
   ]
  },
  {
   "cell_type": "code",
   "execution_count": 8,
   "id": "f00646c8-6170-496a-a198-f4a4153ccc57",
   "metadata": {},
   "outputs": [],
   "source": [
    "def translate(phrase):\n",
    "    translation = \"\"\n",
    "    for letter in phrase:\n",
    "        if letter.upper() in \"AEIOU\":\n",
    "            if letter.isupper():\n",
    "               translation = translation + \"G\"\n",
    "            else:\n",
    "                translation = translation + \"g\"\n",
    "        else:\n",
    "            translation = translation + letter\n",
    "\n",
    "    return translation\n",
    "\n",
    "  # if letter == letter.upper():  -->  if letter.isupper():"
   ]
  },
  {
   "cell_type": "code",
   "execution_count": 9,
   "id": "63b3fe34-dbe4-4c12-968a-7fd72317e17b",
   "metadata": {},
   "outputs": [
    {
     "name": "stdin",
     "output_type": "stream",
     "text": [
      "Enter a Phrase:  Ihan Imaee\n"
     ]
    },
    {
     "name": "stdout",
     "output_type": "stream",
     "text": [
      "Ghgn Gmggg\n"
     ]
    }
   ],
   "source": [
    "print(translate(input(\"Enter a Phrase: \")))"
   ]
  },
  {
   "cell_type": "code",
   "execution_count": null,
   "id": "f53fc16a-e900-46fe-aba7-f0e9d0da1b85",
   "metadata": {},
   "outputs": [],
   "source": []
  }
 ],
 "metadata": {
  "kernelspec": {
   "display_name": "Python 3 (ipykernel)",
   "language": "python",
   "name": "python3"
  },
  "language_info": {
   "codemirror_mode": {
    "name": "ipython",
    "version": 3
   },
   "file_extension": ".py",
   "mimetype": "text/x-python",
   "name": "python",
   "nbconvert_exporter": "python",
   "pygments_lexer": "ipython3",
   "version": "3.12.7"
  }
 },
 "nbformat": 4,
 "nbformat_minor": 5
}
