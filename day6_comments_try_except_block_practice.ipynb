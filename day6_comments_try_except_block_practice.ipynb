{
 "cells": [
  {
   "cell_type": "markdown",
   "id": "d290dda9-1c24-48ae-87bb-28d3568567d0",
   "metadata": {},
   "source": [
    "## Sixth Day of My Python Learning\n",
    "### Comments, Try-Except Block"
   ]
  },
  {
   "cell_type": "code",
   "execution_count": null,
   "id": "f4d03d2b-a424-4d36-b033-c2cd0c76b01d",
   "metadata": {},
   "outputs": [],
   "source": []
  },
  {
   "cell_type": "markdown",
   "id": "8e9bc738-b1c3-4ad4-bf64-634664399074",
   "metadata": {},
   "source": [
    "### Comments:\n",
    "##### A comment is basically a line inside of our Python file that is not going to get rendered by python. So when Python sees it, it's just going to ignore it. It's not going to execute it.\n",
    "##### We use comments to write little comments about different thing or to comment out code (a line of code that we want Python to ignore it). "
   ]
  },
  {
   "cell_type": "code",
   "execution_count": 1,
   "id": "1f2b3c17-0665-45c9-96e2-2f87f3ca60df",
   "metadata": {},
   "outputs": [
    {
     "name": "stdout",
     "output_type": "stream",
     "text": [
      "Comments are cool\n"
     ]
    }
   ],
   "source": [
    "# This program is cool.\n",
    "print(\"Comments are cool\")"
   ]
  },
  {
   "cell_type": "code",
   "execution_count": 2,
   "id": "aeb4debb-854e-43c6-8491-25c696c3cca6",
   "metadata": {},
   "outputs": [
    {
     "name": "stdout",
     "output_type": "stream",
     "text": [
      "Comments are cool\n"
     ]
    }
   ],
   "source": [
    "'''\n",
    "gdhdfs\n",
    "sssdsd\n",
    "sdsdsdf\n",
    "vdssd\n",
    "'''\n",
    "print(\"Comments are cool\")"
   ]
  },
  {
   "cell_type": "code",
   "execution_count": null,
   "id": "de5d8e19-1ba8-4cc3-b67e-955e40936b5a",
   "metadata": {},
   "outputs": [],
   "source": []
  },
  {
   "cell_type": "markdown",
   "id": "a040c086-629d-47fc-a9ef-742c869dfc8e",
   "metadata": {},
   "source": [
    "### Try-Except Block:\n",
    "##### It's about catching errors in Python. "
   ]
  },
  {
   "cell_type": "code",
   "execution_count": 21,
   "id": "02fe75d3-2562-49e2-a595-3a760e49735d",
   "metadata": {},
   "outputs": [
    {
     "name": "stdin",
     "output_type": "stream",
     "text": [
      "Enter your number:  6\n"
     ]
    },
    {
     "name": "stdout",
     "output_type": "stream",
     "text": [
      "6\n"
     ]
    }
   ],
   "source": [
    "number = int(input(\"Enter your number: \"))\n",
    "print(number)"
   ]
  },
  {
   "cell_type": "code",
   "execution_count": 23,
   "id": "d2fd1cec-69b3-450e-9db9-87369968052c",
   "metadata": {},
   "outputs": [
    {
     "name": "stdin",
     "output_type": "stream",
     "text": [
      "Enter your number:  cool\n"
     ]
    },
    {
     "ename": "ValueError",
     "evalue": "invalid literal for int() with base 10: 'cool'",
     "output_type": "error",
     "traceback": [
      "\u001b[1;31m---------------------------------------------------------------------------\u001b[0m",
      "\u001b[1;31mValueError\u001b[0m                                Traceback (most recent call last)",
      "Cell \u001b[1;32mIn[23], line 1\u001b[0m\n\u001b[1;32m----> 1\u001b[0m number \u001b[38;5;241m=\u001b[39m \u001b[38;5;28mint\u001b[39m(\u001b[38;5;28minput\u001b[39m(\u001b[38;5;124m\"\u001b[39m\u001b[38;5;124mEnter your number: \u001b[39m\u001b[38;5;124m\"\u001b[39m))\n\u001b[0;32m      2\u001b[0m \u001b[38;5;28mprint\u001b[39m(number)\n",
      "\u001b[1;31mValueError\u001b[0m: invalid literal for int() with base 10: 'cool'"
     ]
    }
   ],
   "source": [
    "number = int(input(\"Enter your number: \"))\n",
    "print(number)"
   ]
  },
  {
   "cell_type": "markdown",
   "id": "0954ce54-0852-4739-a797-76d1447007e3",
   "metadata": {},
   "source": [
    "##### If a program expect a number but gets text instead, it's going to throw an error. We don't want something like this to trip up (to cause our program to fail or crash by mistake) our program. In order to handle them we can use something called a **try except block**. And a **try except block** will basically allow your program to try out a piece of code. We do this to protect our program from crashing completely."
   ]
  },
  {
   "cell_type": "code",
   "execution_count": 8,
   "id": "ece975d3-14ae-41ee-a129-3b959c024d82",
   "metadata": {},
   "outputs": [
    {
     "name": "stdin",
     "output_type": "stream",
     "text": [
      "Enter your number:  cool\n"
     ]
    },
    {
     "name": "stdout",
     "output_type": "stream",
     "text": [
      "Invalid Input\n"
     ]
    }
   ],
   "source": [
    "try:\n",
    "   number = int(input(\"Enter your number: \"))\n",
    "   print(number)\n",
    "except:\n",
    "    print(\"Invalid Input\")"
   ]
  },
  {
   "cell_type": "code",
   "execution_count": 9,
   "id": "ce0f9c0d-457a-4086-b2ba-5f2a6209ec23",
   "metadata": {},
   "outputs": [
    {
     "name": "stdin",
     "output_type": "stream",
     "text": [
      "Enter your number:  45\n"
     ]
    },
    {
     "name": "stdout",
     "output_type": "stream",
     "text": [
      "45\n"
     ]
    }
   ],
   "source": [
    "try:\n",
    "   number = int(input(\"Enter your number: \"))\n",
    "   print(number)\n",
    "except:\n",
    "    print(\"Invalid Input\")"
   ]
  },
  {
   "cell_type": "code",
   "execution_count": 12,
   "id": "2a5794bd-c2d3-4d61-98c2-a8e3ebb5f77d",
   "metadata": {},
   "outputs": [
    {
     "name": "stdout",
     "output_type": "stream",
     "text": [
      "Invalid Input\n"
     ]
    }
   ],
   "source": [
    "try:\n",
    "    value = 10/0\n",
    "    number = int(input(\"Enter your number: \"))\n",
    "    print(number)\n",
    "except:\n",
    "    print(\"Invalid Input\")"
   ]
  },
  {
   "cell_type": "markdown",
   "id": "a595f5fd-867b-4982-bb55-4fb19a6965ba",
   "metadata": {},
   "source": [
    "#### But it's not out of invalid input. it's due to the fact that we can't devide numbers by zero."
   ]
  },
  {
   "cell_type": "code",
   "execution_count": 17,
   "id": "1631733b-133c-4d5d-96e9-0359ddc42c2d",
   "metadata": {},
   "outputs": [
    {
     "name": "stdout",
     "output_type": "stream",
     "text": [
      "Divided by Zero\n"
     ]
    }
   ],
   "source": [
    "try:\n",
    "    value = 10/0\n",
    "    number = int(input(\"Enter your number: \"))\n",
    "    print(number)\n",
    "except ZeroDivisionError:\n",
    "    print(\"Divided by Zero\")\n",
    "except ValueError:\n",
    "    print(\"Invalid Input\")"
   ]
  },
  {
   "cell_type": "code",
   "execution_count": 18,
   "id": "abee8b1e-64aa-4d02-919f-84e92d525df2",
   "metadata": {},
   "outputs": [
    {
     "name": "stdin",
     "output_type": "stream",
     "text": [
      "Enter your number:  12\n"
     ]
    },
    {
     "name": "stdout",
     "output_type": "stream",
     "text": [
      "12\n"
     ]
    }
   ],
   "source": [
    "try:\n",
    "    value = 10/1\n",
    "    number = int(input(\"Enter your number: \"))\n",
    "    print(number)\n",
    "except ZeroDivisionError:\n",
    "    print(\"Divided by Zero\")\n",
    "except ValueError:\n",
    "    print(\"Invalid Input\")"
   ]
  },
  {
   "cell_type": "code",
   "execution_count": 19,
   "id": "ca473404-fa01-4510-b448-d1167eb0dc78",
   "metadata": {},
   "outputs": [
    {
     "name": "stdout",
     "output_type": "stream",
     "text": [
      "division by zero\n"
     ]
    }
   ],
   "source": [
    "try:\n",
    "    value = 10/0\n",
    "    number = int(input(\"Enter your number: \"))\n",
    "    print(number)\n",
    "except ZeroDivisionError as err:      # \"err\" here is a variable\n",
    "    print(err)\n",
    "except ValueError:\n",
    "    print(\"Invalid Input\")"
   ]
  },
  {
   "cell_type": "code",
   "execution_count": null,
   "id": "5ebd2189-5020-472c-aa5c-54d5ad52ede7",
   "metadata": {},
   "outputs": [],
   "source": []
  }
 ],
 "metadata": {
  "kernelspec": {
   "display_name": "Python 3 (ipykernel)",
   "language": "python",
   "name": "python3"
  },
  "language_info": {
   "codemirror_mode": {
    "name": "ipython",
    "version": 3
   },
   "file_extension": ".py",
   "mimetype": "text/x-python",
   "name": "python",
   "nbconvert_exporter": "python",
   "pygments_lexer": "ipython3",
   "version": "3.12.7"
  }
 },
 "nbformat": 4,
 "nbformat_minor": 5
}
