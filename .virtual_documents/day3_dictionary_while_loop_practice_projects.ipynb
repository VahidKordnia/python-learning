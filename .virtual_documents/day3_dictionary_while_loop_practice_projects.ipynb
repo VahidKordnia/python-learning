








score = {
    16 : "good",
    18 : "very_good",
    20 : "great",
}


student = {
    "name": "Alice",
    "age": 21,
    "major": "Computer science",
}


print(student["name"])


print(student["major"])


student["age"] = 22


print(student)


student["GPA"] = 3.8


print(student)


del student["GPA"]


print(student)


student["GPA"] = 3.8


print("Name:", student["name"])


print(student)


student.values()


print(student.values())


print(student.get("name"))


print(student.get("name", "N/A"))


print(student.get("gender", "N/A"))


print(student.keys())


student.update({"name": "Smith", "city": "New York"})


print(student)


age = student.pop("GPA")
print(age)








if "city" in student:
    print("key exist")
else:
    print("key does't exist")


student.update(score)


print(student)


print(score)


print(score)


print(student)











secret_word = "Vahid"
guess = ""
while guess != secret_word:
    guess = input("Enter guess: ")

print("You win!")








secret_name = "Python"
guess = ""
guess_limit = 3
guess_count = 0
out_of_guesses = False
while guess != secret_name and not out_of_guesses:
    if guess_count < guess_limit:
        guess_count += 1
        guess = input("Enter guess: ")
    else:
        out_of_guesses = True

if out_of_guesses:
    print("Out of Guesses, YOU LOSE!")
else:
    print("YOU WIN!")











secret_name = "Python"
guess = ""
guess_limit = 3
guess_count = 0
while guess != secret_name and guess_count <= guess_limit:
    if guess_count < guess_limit:
        guess_count += 1
        guess = input("Enter guess: ")
    else:
        guess_count += 1

if guess == secret_name:
    print("YOU WIN!")
else:
    print("Out of Guesses, YOU LOSE!")



