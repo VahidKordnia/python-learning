











friends = ["Tom", "Alice", "Jim", "oscar", "Karen"]


print(friends)


friends[0]


friends[-2]


print(friends[2:])


print(friends[1:4])


print(friends[-1:-4])


print(friends[-1:-4:-1])


friends[-1] = "Steve"


print(friends)


friends[1:3]


friends[2:]


friends[-1:-4:-1]


friends[3]


print(friends[3])








friends = ["Tom", "Alice", "Jim", "Oscare", "Karen", "Jim"]


favorite_numbers = [3, 6, 9, 12, 15, 18]


friends.count("Karen")


print(friends.count("Karen"))


print(friends.count("Jim"))


print(friends.index("Karen"))


print(friends.extend(favorite_numbers))


print(friends)





favorite_numbers.append(21)


print(favorite_numbers)


friends.insert(6, 0)


print(friends)


favorite_numbers.remove(21)


print(favorite_numbers)


friends.remove("Jim")


print(friends)


friends.remove("Jim")


print(friends)





favorite_numbers.clear()


print(favorite_numbers)


friends.pop()


print(friends)


friends.pop()


friends.pop()


friends.pop()


friends.pop()


friends.pop()


friends.pop()


print(friends)


friends.insert(2, "Jim")


print(friends)


favorite_numbers = [3, 9, 18, 6, 15, 12]


print(friends)
print(favorite_numbers)


friends.sort()
favorite_numbers.sort()


print(friends)
print(favorite_numbers)


friends.reverse()


print(friends)


friends.reverse()
print(friends)


close_friends = friends.copy()
close_friends.remove("Tom")
close_friends.remove("Oscare")
print(close_friends)





num = (1, 3, 2, 4)


print(num)


num.remove(1)


num.sort()


num.reverse()








num.count(4)


num[3]


print(num[1:])


print(num[-1:-6:-1])











def greet():
    print("hello")


greet()


def greet(name):
    print("hello " + name)


greet("Vahid")


greet('122')


def greet(name, age):
    print("Hi " + name + ", you are " + age + " years old.")

greet("Vahid", "41")
greet("122", "500")


def greet(name, age):
    print("Hi " + str(name) + ", you are " + str(age) + " years old.")

greet("Vahid", 41)
greet(122, 500)


def greet(name, age):
    print("Hi", name, "you are", age, "years old.")

greet("Vahid", 41)
greet(122, 500)








def welcome1(name):
    print("Hi", name)

def welcome2(name):
    print("Hi " + name)
welcome1("Vahid")
welcome1(122)
welcome2("122")





def cube(num):
    num*num*num

cube(2)


print(cube(2))


def cube(num):
    return num*num*num

cube(2)

















is_male = True
is_tall = True
if is_male and is_tall:
    print("You're a tall man.")
elif is_male and not(is_tall):
    print("You are a short man.")
elif is_tall and not(is_male):
    print('You are a tall woman.')
else:
    print('You are a short woman.')


def max(num1, num2, num3):
    if num1 >= num2 and num1 >= num3:
        print(num1)
    elif num2 >= num1 and num2 >= num3:
        print(num2)
    else:
        print(num3)

print(max(5, 2, 3))


def max(num1, num2, num3):
    if num1 >= num2 and num1 >= num3:
       return num1
    elif num2 >= num1 and num2 >= num3:
        return num2
    else:
        return num3

print(max(5, 2, 3))





print("That's it")









