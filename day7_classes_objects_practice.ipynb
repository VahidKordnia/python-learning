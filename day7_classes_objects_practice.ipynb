{
 "cells": [
  {
   "cell_type": "markdown",
   "id": "612c5957-33fe-4277-bed9-f09891f4958f",
   "metadata": {},
   "source": [
    "## Seventh Day of My Python Learning\n",
    "### Classes and Objects"
   ]
  },
  {
   "cell_type": "markdown",
   "id": "214bcb32-01aa-458e-ad1b-09bc60843a9a",
   "metadata": {},
   "source": [
    "##### Not all information, not all data, and not all thing can be represented using strings, numbers, or booleans. So what we can do with **classes** and **objects** is we can basically creat our own data types for every thing we want in Python. we could creat like a phone data type and it could represent a phone. so we could store all the information we would ever want to know about our phone. In Python we could creat a **class** for it. class is another data type that we could model a real world object.\n",
    "#### Let's model a student:\n",
    "##### We don't have a student data type and we can't really represent a student in just a single string or a number. So what we can actually do is we can create a **class** for a student. And we are basically creating like a student data type. To do this we creat another Python file and name it student.py ."
   ]
  },
  {
   "cell_type": "code",
   "execution_count": 1,
   "id": "66ddebbb-ae46-4e16-98a0-cc889f90b60a",
   "metadata": {},
   "outputs": [],
   "source": [
    "# in student.py file we creat a class for student:\n",
    "# class student:\n",
    "#     def __init__(self, name, major, gpa, is_on_probation):          # creating an initialize function\n",
    "                                                                # inside of this initialize function we can map out\n",
    "                                                                # what attributes a student should have.\n",
    "#        self.name = name\n",
    "#        self.major = major\n",
    "#        self.gpa = gpa\n",
    "#        self.is_on_probation = is_on_probation"
   ]
  },
  {
   "cell_type": "markdown",
   "id": "ec33ad6d-8902-4b7a-9c65-628a21ef7aa7",
   "metadata": {},
   "source": [
    "#### So a **class** is just like an overview or template of what the student data type is. And an **object** ia an actual student with a name, major, and gpa."
   ]
  },
  {
   "cell_type": "markdown",
   "id": "7e2391af-0fc3-42df-9603-fd8b1b353ccb",
   "metadata": {},
   "source": [
    "##### In order to use the student class and create a student object, we actually need to **import** that. Python looks for a **file named** student.py in the **same directory** (or module path). But in Jupyter lab, **each notebook is not automatically part of the same Python module system**. So if you created a file called student.ipynb (a notebook), **not** student.py (a Python script), it will **not be seen as a module**. Python only import .py files (or specific modules), not notebooks. To fix it click **file > Save and Export Notebook As > Export Notebook to Executable Script**. And make sure that student.py file is in the **same folder** as your new notebook."
   ]
  },
  {
   "cell_type": "code",
   "execution_count": 12,
   "id": "18af8e39-04b7-41f7-8c6c-e5c6d3bbf5c3",
   "metadata": {},
   "outputs": [
    {
     "name": "stdout",
     "output_type": "stream",
     "text": [
      "Jim\n",
      "science\n",
      "True\n"
     ]
    }
   ],
   "source": [
    "from student import student                        # from the student.py file, I want to import the student class\n",
    "student1 = student(\"Jim\", \"science\", 3.1, False)    # So again, the class is like an overall template. It\n",
    "                                                    # defines what a student is. But an object (here student1)\n",
    "                                                    # is an actual student with actual information.\n",
    "student2 = student(\"Pam\", \"Business\", 2.4, True)\n",
    "print(student1.name)\n",
    "print(student1.major)\n",
    "print(student2.is_on_probation)"
   ]
  },
  {
   "cell_type": "markdown",
   "id": "4e6cf842-4537-4b71-8d9a-5df6e6d90e91",
   "metadata": {},
   "source": [
    "#### let's go back to student.py to see what happend when we defined objects in our practice file (this present file)."
   ]
  },
  {
   "cell_type": "code",
   "execution_count": 13,
   "id": "0f2c25a4-7a56-4299-b193-a8ffa78e2b7e",
   "metadata": {},
   "outputs": [],
   "source": [
    "# in student file we creat a class for student:\n",
    "# class student:\n",
    "#     def __init__(self, name, major, gpa, is_on_probation):     # name, major, ... inside parenthesis are just parameters\n",
    "                                                                      # creating an initialize function\n",
    "                                                                # inside of this initialize function we can map out\n",
    "                                                                # what attribute a student should have.\n",
    "#        self.name = name\n",
    "#        self.major = major\n",
    "#        self.gpa = gpa\n",
    "#        self.is_on_probation = is_on_probation"
   ]
  },
  {
   "cell_type": "markdown",
   "id": "138d5a9f-5a71-4fb9-b000-4a434935f49c",
   "metadata": {},
   "source": [
    "##### When we were passing in all of the different values (Jim, science, ...), those were getting passed into the init function(in student.py). **self.name = name** means the actual object's name (self.name) is going to be equal to the name that we passed in. **self.name** is an attribute of the student. So the student storing a name, major, and GPA. Or we can say **self.name = name**, assign the actual attribute to the object (It's gonna say, the name of the student (self.name) is going to be equal to the name (= name) that we passed in). so when we say **self** , it's refering to the actual objects."
   ]
  },
  {
   "cell_type": "code",
   "execution_count": null,
   "id": "2ee330e7-ede7-4a9f-ac20-9ee5c5cd7157",
   "metadata": {},
   "outputs": [],
   "source": []
  }
 ],
 "metadata": {
  "kernelspec": {
   "display_name": "Python 3 (ipykernel)",
   "language": "python",
   "name": "python3"
  },
  "language_info": {
   "codemirror_mode": {
    "name": "ipython",
    "version": 3
   },
   "file_extension": ".py",
   "mimetype": "text/x-python",
   "name": "python",
   "nbconvert_exporter": "python",
   "pygments_lexer": "ipython3",
   "version": "3.12.7"
  }
 },
 "nbformat": 4,
 "nbformat_minor": 5
}
