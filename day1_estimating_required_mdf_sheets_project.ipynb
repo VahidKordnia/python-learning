{
 "cells": [
  {
   "cell_type": "markdown",
   "id": "4bd81249-0822-457c-96be-4340863acfa0",
   "metadata": {},
   "source": [
    "# **MDF Sheet Estimator**\n",
    "## **day 1 - First Python Project**\n",
    "### This simple project estimates how many MDF sheets are required based on the size of a single sheet and the dimentions of each piece to be cut.\n",
    "### **Just a Note:** \n",
    "#### The calculation assumes that every part of an MDF sheet is used with no leftovers. In reality, some waste is expected, but it's not included here."
   ]
  },
  {
   "cell_type": "code",
   "execution_count": 17,
   "id": "1386d534-af1e-4500-ae70-9854b3accac5",
   "metadata": {},
   "outputs": [
    {
     "name": "stdin",
     "output_type": "stream",
     "text": [
      "Enter the Length of the Sheet:  2.44\n",
      "Enter the Width of the Sheet:  1.22\n",
      "Enter the Length of the first Piece:  1.22\n",
      "Enter the Width of the First Piece:  0.61\n",
      "Enter the Length of the Second Piece:  1.22\n",
      "Enter the Width of the Second Piece:  0.61\n",
      "Enter the Length of the Third Piece:  1.22\n",
      "Enter the Width of the Third Piece:  0.61\n",
      "Enter the Length of the Fourth Piece:  1.22\n",
      "Enter the Width of the Fourth Piece:  0.61\n",
      "Enter the Length of the Fifth Piece:  1.22\n",
      "Enter the Width of the Fifth Piece:  0.61\n",
      "Enter the Length of the Sixth Piece:  1.22\n",
      "Enter the Width of the Sixth Piece:  0.61\n",
      "Enter the Length of the Seventh Piece:  1.22\n",
      "Enter the Width of the Seventh Piece:  0.61\n",
      "Enter the Length of the Eighth Piece:  1.22\n",
      "Enter the Width of the Eighth Piece:  0.61\n",
      "Enter the Length of the Ninth Piece:  1.22\n",
      "Enter the Width of the Ninth Piece:  0.61\n",
      "Enter the Length of the Tenth Piece:  1.22\n",
      "Enter the Width of the Tenth Piece:  0.61\n"
     ]
    },
    {
     "name": "stdout",
     "output_type": "stream",
     "text": [
      "You will need a total of 2.5000000000000004 sheets.\n"
     ]
    }
   ],
   "source": [
    "sheet_length = float(input(\"Enter the Length of the Sheet: \"))\n",
    "sheet_width = float(input(\"Enter the Width of the Sheet: \"))\n",
    "p1l = float(input(\"Enter the Length of the first Piece: \"))\n",
    "p1w = float(input(\"Enter the Width of the First Piece: \"))\n",
    "p2l = float(input(\"Enter the Length of the Second Piece: \"))\n",
    "p2w = float(input(\"Enter the Width of the Second Piece: \"))\n",
    "p3l = float(input(\"Enter the Length of the Third Piece: \"))\n",
    "p3w = float(input(\"Enter the Width of the Third Piece: \"))\n",
    "p4l = float(input(\"Enter the Length of the Fourth Piece: \"))\n",
    "p4w = float(input(\"Enter the Width of the Fourth Piece: \"))\n",
    "p5l = float(input(\"Enter the Length of the Fifth Piece: \"))\n",
    "p5w = float(input(\"Enter the Width of the Fifth Piece: \"))\n",
    "p6l = float(input(\"Enter the Length of the Sixth Piece: \"))\n",
    "p6w = float(input(\"Enter the Width of the Sixth Piece: \"))\n",
    "p7l = float(input(\"Enter the Length of the Seventh Piece: \"))\n",
    "p7w = float(input(\"Enter the Width of the Seventh Piece: \"))\n",
    "p8l = float(input(\"Enter the Length of the Eighth Piece: \"))\n",
    "p8w = float(input(\"Enter the Width of the Eighth Piece: \"))\n",
    "p9l = float(input(\"Enter the Length of the Ninth Piece: \"))\n",
    "p9w = float(input(\"Enter the Width of the Ninth Piece: \"))\n",
    "p10l = float(input(\"Enter the Length of the Tenth Piece: \"))\n",
    "p10w = float(input(\"Enter the Width of the Tenth Piece: \"))\n",
    "sheet_area = (sheet_length * sheet_width)\n",
    "ap1 = p1l * p1w\n",
    "ap2 = p2l * p2w\n",
    "ap3 = p3l * p3w\n",
    "ap4 = p4l * p4w\n",
    "ap5 = p5l * p5w\n",
    "ap6 = p6l * p6w\n",
    "ap7 = p7l * p7w\n",
    "ap8 = p8l * p8w\n",
    "ap9 = p9l * p9w\n",
    "ap10 = p10l * p10w\n",
    "sum_areas = ap1 + ap2 + ap3 + ap4 + ap5 + ap6 + ap7 + ap8 + ap9 + ap10\n",
    "total_sheets = sum_areas / sheet_area\n",
    "print(\"You will need a total of \" + str(total_sheets) + \" sheets.\")"
   ]
  },
  {
   "cell_type": "markdown",
   "id": "a6169b23-12d5-45b8-8e0c-9fff369d7c54",
   "metadata": {},
   "source": [
    "### Note:\n",
    "#### float converts a value from string to number"
   ]
  },
  {
   "cell_type": "code",
   "execution_count": null,
   "id": "e8e1a9fd-cc8d-431e-a17d-ce5add9d2482",
   "metadata": {},
   "outputs": [],
   "source": []
  }
 ],
 "metadata": {
  "kernelspec": {
   "display_name": "Python 3 (ipykernel)",
   "language": "python",
   "name": "python3"
  },
  "language_info": {
   "codemirror_mode": {
    "name": "ipython",
    "version": 3
   },
   "file_extension": ".py",
   "mimetype": "text/x-python",
   "name": "python",
   "nbconvert_exporter": "python",
   "pygments_lexer": "ipython3",
   "version": "3.12.7"
  }
 },
 "nbformat": 4,
 "nbformat_minor": 5
}
