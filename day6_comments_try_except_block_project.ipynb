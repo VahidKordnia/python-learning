{
 "cells": [
  {
   "cell_type": "markdown",
   "id": "f812087c-fc9f-4260-aaca-267eadd8ce2a",
   "metadata": {},
   "source": [
    "# **Day6- Python Project**"
   ]
  },
  {
   "cell_type": "markdown",
   "id": "1a7152fe-f1fc-409d-87fd-be2d06bfd5bb",
   "metadata": {},
   "source": [
    "## Simple Calculator (Using try_except)\n",
    "### **Features:**\n",
    "#### **. Asks the user for two numbers**\n",
    "#### **. Asks for an operation**\n",
    "#### **. uses try-except to handle:**\n",
    "#####   Invalid Input(letters instead of numbers)\n",
    "#####   Division by zero\n",
    "#####   Invalid operation"
   ]
  },
  {
   "cell_type": "code",
   "execution_count": 41,
   "id": "9935945a-64de-4574-bd4a-4feb791fa41a",
   "metadata": {},
   "outputs": [],
   "source": [
    "def calculator():\n",
    "    print(\"Welcome to simple calculator!\")\n",
    "    \n",
    "    try:\n",
    "        num1 = float(input(\"Enter the first number: \"))\n",
    "        num2 = float(input(\"Enter the second number: \"))\n",
    "    except ValueError:\n",
    "        print(\"Invalid input! Please enter numeric values.\")\n",
    "        return    # exit the function early (stop the function and \n",
    "                  # rest of the code is ignored)\n",
    "        \n",
    "    operation = input(\"Choose operation(+, -, *, /): \")\n",
    "    try:\n",
    "        if operation == '+':\n",
    "            result = num1 + num2\n",
    "        elif operation == '-':\n",
    "            result = num1 - num2\n",
    "        elif operation == '*':\n",
    "            result = num1 * num2\n",
    "        elif operation == '/':\n",
    "            result = num1 / num2\n",
    "        else:\n",
    "            print(\"Invalid operation!\")\n",
    "            return\n",
    "            \n",
    "        print(\"Result:\", result)\n",
    "        \n",
    "    except ZeroDivisionError:\n",
    "        print(\"Error: Cannot devide by zero\")"
   ]
  },
  {
   "cell_type": "code",
   "execution_count": 42,
   "id": "0bf9eb37-7391-40ff-828b-be509d80894d",
   "metadata": {},
   "outputs": [
    {
     "name": "stdout",
     "output_type": "stream",
     "text": [
      "Welcome to simple calculator!\n"
     ]
    },
    {
     "name": "stdin",
     "output_type": "stream",
     "text": [
      "Enter the first number:  4\n",
      "Enter the second number:  9\n",
      "Choose operation(+, -, *, /):  *\n"
     ]
    },
    {
     "name": "stdout",
     "output_type": "stream",
     "text": [
      "Result: 36.0\n"
     ]
    }
   ],
   "source": [
    "calculator()"
   ]
  },
  {
   "cell_type": "code",
   "execution_count": null,
   "id": "59ff295a-724b-4424-a70f-42184a3483e6",
   "metadata": {},
   "outputs": [],
   "source": []
  },
  {
   "cell_type": "code",
   "execution_count": null,
   "id": "0fc30a9f-e9ff-4d37-9371-3c4eba7938b7",
   "metadata": {},
   "outputs": [],
   "source": []
  },
  {
   "cell_type": "code",
   "execution_count": null,
   "id": "edff9dbf-525c-4f52-a1ee-d1ff4fbf8266",
   "metadata": {},
   "outputs": [],
   "source": []
  },
  {
   "cell_type": "markdown",
   "id": "dbbcd6f6-3015-4565-99a9-b5995f93d97e",
   "metadata": {},
   "source": [
    "### Let's see what is the difference between \"except:\" and \"except ValueError\" or any other specific types of except."
   ]
  },
  {
   "cell_type": "code",
   "execution_count": 47,
   "id": "168985fd-2688-44a1-b8e7-3313e4fc1778",
   "metadata": {},
   "outputs": [],
   "source": [
    "def calculator():\n",
    "    print(\"Welcome to simple calculator!\")\n",
    "    \n",
    "    try:\n",
    "        num1 = float(input(\"Enter the first number: \"))\n",
    "        num2 = fliat(input(\"Enter the second number: \"))     # float was typed fliat (typos error)\n",
    "        \n",
    "    except:         # hides all errors - even real bugs like typos, \n",
    "                    # wrong variable names, or logic errors.\n",
    "        \n",
    "        print(\"Invalid input! Please enter numeric values.\")\n",
    "        return    \n",
    "        \n",
    "    operation = input(\"Choose operation(+, -, *, /): \")\n",
    "    try:\n",
    "        if operation == '+':\n",
    "            result = num1 + num2\n",
    "        elif operation == '-':\n",
    "            result = num1 - num2\n",
    "        elif operation == '*':\n",
    "            result = num1 * num2\n",
    "        elif operation == '/':\n",
    "            result = num1 / num2\n",
    "        else:\n",
    "            print(\"Invalid operation!\")\n",
    "            return\n",
    "            \n",
    "        print(\"Result:\", result)\n",
    "        \n",
    "    except ZeroDivisionError:\n",
    "        print(\"Error: Cannot devide by zero\")"
   ]
  },
  {
   "cell_type": "code",
   "execution_count": 48,
   "id": "8976fbb4-d46e-40b9-80de-068a2bc4c00d",
   "metadata": {},
   "outputs": [
    {
     "name": "stdout",
     "output_type": "stream",
     "text": [
      "Welcome to simple calculator!\n"
     ]
    },
    {
     "name": "stdin",
     "output_type": "stream",
     "text": [
      "Enter the first number:  4\n"
     ]
    },
    {
     "name": "stdout",
     "output_type": "stream",
     "text": [
      "Invalid input! Please enter numeric values.\n"
     ]
    }
   ],
   "source": [
    "calculator()"
   ]
  },
  {
   "cell_type": "markdown",
   "id": "25b68f85-fe44-4ed6-b1e9-4c6db6c1a1c8",
   "metadata": {},
   "source": [
    "#### the error is a \"typos\" error not invalid input"
   ]
  },
  {
   "cell_type": "code",
   "execution_count": null,
   "id": "22f8a6b1-6a0d-46e6-895f-139ceccfd2f0",
   "metadata": {},
   "outputs": [],
   "source": []
  },
  {
   "cell_type": "code",
   "execution_count": 49,
   "id": "eeeca722-acdb-4961-8f56-06fc5c7342d2",
   "metadata": {},
   "outputs": [],
   "source": [
    "def calculator():\n",
    "    print(\"Welcome to simple calculator!\")\n",
    "    \n",
    "    try:\n",
    "        num1 = float(input(\"Enter the first number: \"))\n",
    "        num2 = fliat(input(\"Enter the second number: \"))     # float was typed fliat (typos error)\n",
    "        \n",
    "    except ValueError:         # it only catches expected problems (value errors) - and \n",
    "                               # let real problems show up.\n",
    "        \n",
    "        print(\"Invalid input! Please enter numeric values.\")\n",
    "        return   \n",
    "        \n",
    "    operation = input(\"Choose operation(+, -, *, /): \")\n",
    "    try:\n",
    "        if operation == '+':\n",
    "            result = num1 + num2\n",
    "        elif operation == '-':\n",
    "            result = num1 - num2\n",
    "        elif operation == '*':\n",
    "            result = num1 * num2\n",
    "        elif operation == '/':\n",
    "            result = num1 / num2\n",
    "        else:\n",
    "            print(\"Invalid operation!\")\n",
    "            return\n",
    "            \n",
    "        print(\"Result:\", result)\n",
    "        \n",
    "    except ZeroDivisionError:\n",
    "        print(\"Error: Cannot devide by zero\")"
   ]
  },
  {
   "cell_type": "code",
   "execution_count": 50,
   "id": "bd19b58f-ee90-47a9-9fcb-d1262a0708c1",
   "metadata": {},
   "outputs": [
    {
     "name": "stdout",
     "output_type": "stream",
     "text": [
      "Welcome to simple calculator!\n"
     ]
    },
    {
     "name": "stdin",
     "output_type": "stream",
     "text": [
      "Enter the first number:  5\n"
     ]
    },
    {
     "ename": "NameError",
     "evalue": "name 'fliat' is not defined",
     "output_type": "error",
     "traceback": [
      "\u001b[1;31m---------------------------------------------------------------------------\u001b[0m",
      "\u001b[1;31mNameError\u001b[0m                                 Traceback (most recent call last)",
      "Cell \u001b[1;32mIn[50], line 1\u001b[0m\n\u001b[1;32m----> 1\u001b[0m calculator()\n",
      "Cell \u001b[1;32mIn[49], line 6\u001b[0m, in \u001b[0;36mcalculator\u001b[1;34m()\u001b[0m\n\u001b[0;32m      4\u001b[0m \u001b[38;5;28;01mtry\u001b[39;00m:\n\u001b[0;32m      5\u001b[0m     num1 \u001b[38;5;241m=\u001b[39m \u001b[38;5;28mfloat\u001b[39m(\u001b[38;5;28minput\u001b[39m(\u001b[38;5;124m\"\u001b[39m\u001b[38;5;124mEnter the first number: \u001b[39m\u001b[38;5;124m\"\u001b[39m))\n\u001b[1;32m----> 6\u001b[0m     num2 \u001b[38;5;241m=\u001b[39m fliat(\u001b[38;5;28minput\u001b[39m(\u001b[38;5;124m\"\u001b[39m\u001b[38;5;124mEnter the second number: \u001b[39m\u001b[38;5;124m\"\u001b[39m))     \u001b[38;5;66;03m# float was typed fliat (typos error)\u001b[39;00m\n\u001b[0;32m      8\u001b[0m \u001b[38;5;28;01mexcept\u001b[39;00m \u001b[38;5;167;01mValueError\u001b[39;00m:         \u001b[38;5;66;03m# it only catches expected problems - and let real problems show up\u001b[39;00m\n\u001b[0;32m     10\u001b[0m     \u001b[38;5;28mprint\u001b[39m(\u001b[38;5;124m\"\u001b[39m\u001b[38;5;124mInvalid input! Please enter numeric values.\u001b[39m\u001b[38;5;124m\"\u001b[39m)\n",
      "\u001b[1;31mNameError\u001b[0m: name 'fliat' is not defined"
     ]
    }
   ],
   "source": [
    "calculator()"
   ]
  },
  {
   "cell_type": "markdown",
   "id": "85ebdb17-0e18-4985-b802-877a275587e2",
   "metadata": {},
   "source": [
    "#### As we can see \"except ValueError:\" catches only value errors and doesn't catch other errors and lets them show up."
   ]
  },
  {
   "cell_type": "code",
   "execution_count": null,
   "id": "7dfe9913-2f55-4993-b7d2-15a3b5653655",
   "metadata": {},
   "outputs": [],
   "source": []
  }
 ],
 "metadata": {
  "kernelspec": {
   "display_name": "Python 3 (ipykernel)",
   "language": "python",
   "name": "python3"
  },
  "language_info": {
   "codemirror_mode": {
    "name": "ipython",
    "version": 3
   },
   "file_extension": ".py",
   "mimetype": "text/x-python",
   "name": "python",
   "nbconvert_exporter": "python",
   "pygments_lexer": "ipython3",
   "version": "3.12.7"
  }
 },
 "nbformat": 4,
 "nbformat_minor": 5
}
