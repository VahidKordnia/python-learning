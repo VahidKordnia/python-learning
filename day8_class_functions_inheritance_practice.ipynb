{
 "cells": [
  {
   "cell_type": "markdown",
   "id": "0e59de46-940a-477c-9e4e-6d51be1cb277",
   "metadata": {},
   "source": [
    "## **Eighth Day of My Python Learning Journey**\n",
    "### **Class Functions, Inheritance, and Deep Understanding of Self**"
   ]
  },
  {
   "cell_type": "code",
   "execution_count": null,
   "id": "8d8789e8-996c-4b59-99b3-ebf0429687e7",
   "metadata": {},
   "outputs": [],
   "source": []
  },
  {
   "cell_type": "markdown",
   "id": "604380e5-608a-457d-b983-54e2d9a95c86",
   "metadata": {},
   "source": [
    "### **Class Function:**"
   ]
  },
  {
   "cell_type": "markdown",
   "id": "5f0560d4-a4d9-433d-ae88-1142cdb3dc35",
   "metadata": {},
   "source": [
    "#### A class function is a function we can use inside of a class and it can either modify the objects of that class or it can give specific information about those objects."
   ]
  },
  {
   "cell_type": "code",
   "execution_count": null,
   "id": "d5596d99-70ea-4b7b-8366-4831a771c7b8",
   "metadata": {},
   "outputs": [],
   "source": [
    "class student:\n",
    "    def __init__(self, name, major, gpa):\n",
    "        self.name = name\n",
    "        self.major = major\n",
    "        self.gpa = gpa\n",
    "        "
   ]
  },
  {
   "cell_type": "markdown",
   "id": "2f44f78e-ffb3-4996-b242-cae711c285a3",
   "metadata": {},
   "source": [
    "#### We want to define a function inside of the student class and then all of student objects could access it. So we want to creat a function that tell us whether or not this particular student had honor. It's a very small function, but it provides a service to the objects of this class. It allows the objects of this class to figure out whether or not that current student is on th honor roll.\n",
    "#### Essentially a class function is just a little function that can be used by the objects of the class."
   ]
  },
  {
   "cell_type": "code",
   "execution_count": 31,
   "id": "a2d3535d-e68a-4723-b4fe-d6e73e3fbe35",
   "metadata": {},
   "outputs": [],
   "source": [
    "class student:\n",
    "    def __init__(self, name, major, gpa):\n",
    "        self.name = name\n",
    "        self.major = major\n",
    "        self.gpa = gpa\n",
    "    def on_honor_roll(self):\n",
    "        if self.gpa >= 3.5:\n",
    "            return True\n",
    "        else:\n",
    "            return False"
   ]
  },
  {
   "cell_type": "code",
   "execution_count": 33,
   "id": "735bfe3b-056a-4178-b0bf-606b68fac410",
   "metadata": {},
   "outputs": [
    {
     "name": "stdout",
     "output_type": "stream",
     "text": [
      "False\n",
      "True\n"
     ]
    }
   ],
   "source": [
    "student1 = student(\"Oscar\", \"Accounting\", 3.1)\n",
    "student2 = student(\"Phyllis\", \"Business\", 3.8)\n",
    "print(student1.on_honor_roll())\n",
    "print(student2.on_honor_roll())"
   ]
  },
  {
   "cell_type": "code",
   "execution_count": null,
   "id": "5519170c-9830-453b-b6b6-be40435f18dc",
   "metadata": {},
   "outputs": [],
   "source": []
  },
  {
   "cell_type": "markdown",
   "id": "21be3a45-347f-45a6-aa4f-03aad5e144d2",
   "metadata": {},
   "source": [
    "### **Inheritance:**"
   ]
  },
  {
   "cell_type": "markdown",
   "id": "6c71a57b-87af-46d4-a7d8-516a3e78fafe",
   "metadata": {},
   "source": [
    "#### Inheritance is basically where we can define a bunch of attributes, functions, and things of a class. And then we can creat another class and we can inherit all of those attributes. So we can basically have one class that has all the functionality of another class without having to physically write out any of the same methods or attributes."
   ]
  },
  {
   "cell_type": "code",
   "execution_count": 4,
   "id": "1612c77d-c041-4b59-ab1c-91b5774cd866",
   "metadata": {},
   "outputs": [
    {
     "name": "stdout",
     "output_type": "stream",
     "text": [
      "The chef makes a bbq ribs\n"
     ]
    }
   ],
   "source": [
    "class Chef:\n",
    "    def make_chicken(self):\n",
    "        print(\"The chef makes a chicken\")\n",
    "\n",
    "    def make_salad(self):\n",
    "        print(\"The chef makes a salad\")\n",
    "\n",
    "    def make_special_dish(self):\n",
    "        print(\"The chef makes a bbq ribs\")\n",
    "\n",
    "mychef = Chef()\n",
    "mychef.make_special_dish()"
   ]
  },
  {
   "cell_type": "markdown",
   "id": "151cf8b8-f8c4-4c2a-8a92-341e7e8fc687",
   "metadata": {},
   "source": [
    "#### This chef class is just modeling like some generic chef. Let's say that we wanted to creat another class (Chinese chef) to model another type of chef. Let's say our Chinese chef can do everything that our generic chef can do."
   ]
  },
  {
   "cell_type": "code",
   "execution_count": 5,
   "id": "672c8c98-e25e-476d-9435-9691cfec385f",
   "metadata": {},
   "outputs": [],
   "source": [
    "class ChineseChef(Chef):            # So what this is saying is, inside of this ChineseChef class we want to be able to\n",
    "    def make_fried_rice(self):      # use all of the functions that are contained inside of the Chef class.\n",
    "        print(\"The chef makes fried rice\")"
   ]
  },
  {
   "cell_type": "markdown",
   "id": "547c799c-48fa-4f09-86fc-0faff1d4232f",
   "metadata": {},
   "source": [
    "#### If we want to change one of the functions that existed in Chef, we should overwrite it. "
   ]
  },
  {
   "cell_type": "code",
   "execution_count": 6,
   "id": "89ad4583-dad4-468b-9831-137504f6b17c",
   "metadata": {},
   "outputs": [
    {
     "name": "stdout",
     "output_type": "stream",
     "text": [
      "The chef makes orange chicken\n",
      "The chef makes fried rice\n",
      "The chef makes a salad\n"
     ]
    }
   ],
   "source": [
    "class ChineseChef(Chef):            \n",
    "    def make_fried_rice(self):      \n",
    "        print(\"The chef makes fried rice\")\n",
    "\n",
    "    def make_special_dish(self):\n",
    "        print(\"The chef makes orange chicken\")\n",
    "\n",
    "myChineseChef = ChineseChef()\n",
    "myChineseChef.make_special_dish()\n",
    "myChineseChef.make_fried_rice()\n",
    "myChineseChef.make_salad()"
   ]
  },
  {
   "cell_type": "markdown",
   "id": "a562b887-5166-4dbf-a36d-c7649d8e83cf",
   "metadata": {},
   "source": [
    "#### So that's what inheritance does. It allows us to inherit functionality from an existing class into the new class."
   ]
  },
  {
   "cell_type": "code",
   "execution_count": null,
   "id": "80ea4213-e21c-4609-9ad6-e2935db84315",
   "metadata": {},
   "outputs": [],
   "source": []
  },
  {
   "cell_type": "code",
   "execution_count": null,
   "id": "cda8eb9a-2f5a-4778-9ee3-dc732dffa89c",
   "metadata": {},
   "outputs": [],
   "source": []
  },
  {
   "cell_type": "markdown",
   "id": "2ed13fd5-3e4e-4cdd-936c-3056099db803",
   "metadata": {},
   "source": [
    "#### **What is self in Python?**\n",
    "##### In Python, when you define a **function inside a class**, you must include **self** as the **first parameter** of that function. **self** refers to the **current object** of the class.\n",
    "#####\n",
    "#### Why do we need self?\n",
    "##### Because it allows the function to **access variables and other functions that belong to the same object**.\n",
    "#### **Example:**\n",
    "##### class Person:\n",
    "#####     def greet(self):\n",
    "#####         print(\"Hello\")\n",
    "##### p1 = Person()\n",
    "##### p1.greet()\n",
    "##### When we write p1.greet(), Python automatically translate it to:\n",
    "##### Person.greet(p1)\n",
    "##### So p1 is passed to the function as the self parameter.\n",
    "#### **Points:**\n",
    "##### *self* means **\"this object\"** (It refers to the object the function is being called on)\n",
    "##### It's the **first parameter** in every method inside a class (even if you don't use it, you must include it)\n",
    "##### Python send it automatically (you don't need to pass it manually when calling the method)\n",
    "#### **Summary:**\n",
    "##### *self* is how an object referes to **itself**.\n",
    "##### It lets methods **access and modify** the object's own data.\n",
    "##### Alwayes use *self* as the first parameter in class methods (it's a common rule and best practice.)\n",
    "#### **What is method?**\n",
    "##### A **method** is just a **function inside a class.** In other words, a **function** is called a **method** when it belongs to a **class** and works on an **object**."
   ]
  },
  {
   "cell_type": "code",
   "execution_count": null,
   "id": "94120521-fbb9-4f6a-b4d6-476c317766ee",
   "metadata": {},
   "outputs": [],
   "source": []
  }
 ],
 "metadata": {
  "kernelspec": {
   "display_name": "Python 3 (ipykernel)",
   "language": "python",
   "name": "python3"
  },
  "language_info": {
   "codemirror_mode": {
    "name": "ipython",
    "version": 3
   },
   "file_extension": ".py",
   "mimetype": "text/x-python",
   "name": "python",
   "nbconvert_exporter": "python",
   "pygments_lexer": "ipython3",
   "version": "3.12.7"
  }
 },
 "nbformat": 4,
 "nbformat_minor": 5
}
